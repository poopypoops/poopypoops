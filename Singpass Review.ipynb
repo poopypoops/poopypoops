{
 "cells": [
  {
   "cell_type": "code",
   "execution_count": 130,
   "metadata": {},
   "outputs": [],
   "source": [
    "#pip install contractions"
   ]
  },
  {
   "cell_type": "code",
   "execution_count": 131,
   "metadata": {},
   "outputs": [],
   "source": [
    "#pip install emoji --upgrade"
   ]
  },
  {
   "cell_type": "code",
   "execution_count": 132,
   "metadata": {},
   "outputs": [],
   "source": [
    "#! pip install google_trans_new"
   ]
  },
  {
   "cell_type": "code",
   "execution_count": 133,
   "metadata": {},
   "outputs": [],
   "source": [
    "# Import the Required Packages\n",
    "import numpy as np\n",
    "import pandas as pd\n"
   ]
  },
  {
   "cell_type": "markdown",
   "metadata": {},
   "source": [
    "### 1.1 Data Loading"
   ]
  },
  {
   "cell_type": "code",
   "execution_count": 134,
   "metadata": {},
   "outputs": [],
   "source": [
    "df = pd.read_csv('singpassreview.csv')"
   ]
  },
  {
   "cell_type": "code",
   "execution_count": 135,
   "metadata": {},
   "outputs": [
    {
     "name": "stdout",
     "output_type": "stream",
     "text": [
      "<class 'pandas.core.frame.DataFrame'>\n",
      "RangeIndex: 7015 entries, 0 to 7014\n",
      "Data columns (total 10 columns):\n",
      " #   Column                Non-Null Count  Dtype \n",
      "---  ------                --------------  ----- \n",
      " 0   reviewId              7015 non-null   object\n",
      " 1   userName              7015 non-null   object\n",
      " 2   userImage             7015 non-null   object\n",
      " 3   content               7015 non-null   object\n",
      " 4   score                 7015 non-null   int64 \n",
      " 5   thumbsUpCount         7015 non-null   int64 \n",
      " 6   reviewCreatedVersion  6510 non-null   object\n",
      " 7   at                    7015 non-null   object\n",
      " 8   replyContent          446 non-null    object\n",
      " 9   repliedAt             446 non-null    object\n",
      "dtypes: int64(2), object(8)\n",
      "memory usage: 548.2+ KB\n"
     ]
    }
   ],
   "source": [
    "df.info()"
   ]
  },
  {
   "cell_type": "code",
   "execution_count": 136,
   "metadata": {},
   "outputs": [
    {
     "data": {
      "text/html": [
       "<div>\n",
       "<style scoped>\n",
       "    .dataframe tbody tr th:only-of-type {\n",
       "        vertical-align: middle;\n",
       "    }\n",
       "\n",
       "    .dataframe tbody tr th {\n",
       "        vertical-align: top;\n",
       "    }\n",
       "\n",
       "    .dataframe thead th {\n",
       "        text-align: right;\n",
       "    }\n",
       "</style>\n",
       "<table border=\"1\" class=\"dataframe\">\n",
       "  <thead>\n",
       "    <tr style=\"text-align: right;\">\n",
       "      <th></th>\n",
       "      <th>reviewId</th>\n",
       "      <th>userName</th>\n",
       "      <th>userImage</th>\n",
       "      <th>content</th>\n",
       "      <th>score</th>\n",
       "      <th>thumbsUpCount</th>\n",
       "      <th>reviewCreatedVersion</th>\n",
       "      <th>at</th>\n",
       "      <th>replyContent</th>\n",
       "      <th>repliedAt</th>\n",
       "    </tr>\n",
       "  </thead>\n",
       "  <tbody>\n",
       "    <tr>\n",
       "      <th>0</th>\n",
       "      <td>4171b25c-828c-464c-9b2e-83ec200af5e4</td>\n",
       "      <td>ummu dinda</td>\n",
       "      <td>https://play-lh.googleusercontent.com/a-/AFdZu...</td>\n",
       "      <td>Vary good</td>\n",
       "      <td>5</td>\n",
       "      <td>0</td>\n",
       "      <td>14.2.0</td>\n",
       "      <td>2022-07-14 06:50:21</td>\n",
       "      <td>NaN</td>\n",
       "      <td>NaN</td>\n",
       "    </tr>\n",
       "    <tr>\n",
       "      <th>1</th>\n",
       "      <td>66d9b177-6d28-4628-bd34-000265e48c9d</td>\n",
       "      <td>Dumham Luz</td>\n",
       "      <td>https://play-lh.googleusercontent.com/a-/AFdZu...</td>\n",
       "      <td>🙏🏼</td>\n",
       "      <td>5</td>\n",
       "      <td>0</td>\n",
       "      <td>14.2.0</td>\n",
       "      <td>2022-07-14 00:20:26</td>\n",
       "      <td>NaN</td>\n",
       "      <td>NaN</td>\n",
       "    </tr>\n",
       "    <tr>\n",
       "      <th>2</th>\n",
       "      <td>75396abe-46ed-4287-b6a3-e282815eaadd</td>\n",
       "      <td>S Pradeep</td>\n",
       "      <td>https://play-lh.googleusercontent.com/a/AItbvm...</td>\n",
       "      <td>good</td>\n",
       "      <td>5</td>\n",
       "      <td>0</td>\n",
       "      <td>14.2.0</td>\n",
       "      <td>2022-07-13 16:11:09</td>\n",
       "      <td>NaN</td>\n",
       "      <td>NaN</td>\n",
       "    </tr>\n",
       "  </tbody>\n",
       "</table>\n",
       "</div>"
      ],
      "text/plain": [
       "                               reviewId    userName  \\\n",
       "0  4171b25c-828c-464c-9b2e-83ec200af5e4  ummu dinda   \n",
       "1  66d9b177-6d28-4628-bd34-000265e48c9d  Dumham Luz   \n",
       "2  75396abe-46ed-4287-b6a3-e282815eaadd   S Pradeep   \n",
       "\n",
       "                                           userImage    content  score  \\\n",
       "0  https://play-lh.googleusercontent.com/a-/AFdZu...  Vary good      5   \n",
       "1  https://play-lh.googleusercontent.com/a-/AFdZu...         🙏🏼      5   \n",
       "2  https://play-lh.googleusercontent.com/a/AItbvm...       good      5   \n",
       "\n",
       "   thumbsUpCount reviewCreatedVersion                   at replyContent  \\\n",
       "0              0               14.2.0  2022-07-14 06:50:21          NaN   \n",
       "1              0               14.2.0  2022-07-14 00:20:26          NaN   \n",
       "2              0               14.2.0  2022-07-13 16:11:09          NaN   \n",
       "\n",
       "  repliedAt  \n",
       "0       NaN  \n",
       "1       NaN  \n",
       "2       NaN  "
      ]
     },
     "execution_count": 136,
     "metadata": {},
     "output_type": "execute_result"
    }
   ],
   "source": [
    "df.head(3)"
   ]
  },
  {
   "cell_type": "code",
   "execution_count": 137,
   "metadata": {},
   "outputs": [],
   "source": [
    "df_reviews = df.drop(['reviewId', 'userName','userImage','reviewCreatedVersion','at', 'replyContent','repliedAt','thumbsUpCount'], axis =1)"
   ]
  },
  {
   "cell_type": "code",
   "execution_count": 138,
   "metadata": {},
   "outputs": [
    {
     "data": {
      "text/html": [
       "<div>\n",
       "<style scoped>\n",
       "    .dataframe tbody tr th:only-of-type {\n",
       "        vertical-align: middle;\n",
       "    }\n",
       "\n",
       "    .dataframe tbody tr th {\n",
       "        vertical-align: top;\n",
       "    }\n",
       "\n",
       "    .dataframe thead th {\n",
       "        text-align: right;\n",
       "    }\n",
       "</style>\n",
       "<table border=\"1\" class=\"dataframe\">\n",
       "  <thead>\n",
       "    <tr style=\"text-align: right;\">\n",
       "      <th></th>\n",
       "      <th>content</th>\n",
       "      <th>score</th>\n",
       "    </tr>\n",
       "  </thead>\n",
       "  <tbody>\n",
       "    <tr>\n",
       "      <th>0</th>\n",
       "      <td>Vary good</td>\n",
       "      <td>5</td>\n",
       "    </tr>\n",
       "    <tr>\n",
       "      <th>1</th>\n",
       "      <td>🙏🏼</td>\n",
       "      <td>5</td>\n",
       "    </tr>\n",
       "    <tr>\n",
       "      <th>2</th>\n",
       "      <td>good</td>\n",
       "      <td>5</td>\n",
       "    </tr>\n",
       "    <tr>\n",
       "      <th>3</th>\n",
       "      <td>Good</td>\n",
       "      <td>5</td>\n",
       "    </tr>\n",
       "    <tr>\n",
       "      <th>4</th>\n",
       "      <td>did you missed putting a \"logout\" button? coul...</td>\n",
       "      <td>4</td>\n",
       "    </tr>\n",
       "    <tr>\n",
       "      <th>...</th>\n",
       "      <td>...</td>\n",
       "      <td>...</td>\n",
       "    </tr>\n",
       "    <tr>\n",
       "      <th>7010</th>\n",
       "      <td>Great app with infinite potential</td>\n",
       "      <td>5</td>\n",
       "    </tr>\n",
       "    <tr>\n",
       "      <th>7011</th>\n",
       "      <td>Good and works. Can be faster</td>\n",
       "      <td>5</td>\n",
       "    </tr>\n",
       "    <tr>\n",
       "      <th>7012</th>\n",
       "      <td>I could not access pac@gov after installing si...</td>\n",
       "      <td>2</td>\n",
       "    </tr>\n",
       "    <tr>\n",
       "      <th>7013</th>\n",
       "      <td>This is so awesome! Love it</td>\n",
       "      <td>5</td>\n",
       "    </tr>\n",
       "    <tr>\n",
       "      <th>7014</th>\n",
       "      <td>Safe and convenient! Love it!</td>\n",
       "      <td>5</td>\n",
       "    </tr>\n",
       "  </tbody>\n",
       "</table>\n",
       "<p>7015 rows × 2 columns</p>\n",
       "</div>"
      ],
      "text/plain": [
       "                                                content  score\n",
       "0                                             Vary good      5\n",
       "1                                                    🙏🏼      5\n",
       "2                                                  good      5\n",
       "3                                                  Good      5\n",
       "4     did you missed putting a \"logout\" button? coul...      4\n",
       "...                                                 ...    ...\n",
       "7010                  Great app with infinite potential      5\n",
       "7011                      Good and works. Can be faster      5\n",
       "7012  I could not access pac@gov after installing si...      2\n",
       "7013                        This is so awesome! Love it      5\n",
       "7014                      Safe and convenient! Love it!      5\n",
       "\n",
       "[7015 rows x 2 columns]"
      ]
     },
     "execution_count": 138,
     "metadata": {},
     "output_type": "execute_result"
    }
   ],
   "source": [
    "df_reviews"
   ]
  },
  {
   "cell_type": "code",
   "execution_count": 139,
   "metadata": {},
   "outputs": [],
   "source": [
    "df_reviews = df_reviews.dropna()"
   ]
  },
  {
   "cell_type": "code",
   "execution_count": 140,
   "metadata": {},
   "outputs": [
    {
     "data": {
      "text/html": [
       "<div>\n",
       "<style scoped>\n",
       "    .dataframe tbody tr th:only-of-type {\n",
       "        vertical-align: middle;\n",
       "    }\n",
       "\n",
       "    .dataframe tbody tr th {\n",
       "        vertical-align: top;\n",
       "    }\n",
       "\n",
       "    .dataframe thead th {\n",
       "        text-align: right;\n",
       "    }\n",
       "</style>\n",
       "<table border=\"1\" class=\"dataframe\">\n",
       "  <thead>\n",
       "    <tr style=\"text-align: right;\">\n",
       "      <th></th>\n",
       "      <th>content</th>\n",
       "      <th>score</th>\n",
       "    </tr>\n",
       "  </thead>\n",
       "  <tbody>\n",
       "    <tr>\n",
       "      <th>0</th>\n",
       "      <td>Vary good</td>\n",
       "      <td>5</td>\n",
       "    </tr>\n",
       "    <tr>\n",
       "      <th>1</th>\n",
       "      <td>🙏🏼</td>\n",
       "      <td>5</td>\n",
       "    </tr>\n",
       "    <tr>\n",
       "      <th>2</th>\n",
       "      <td>good</td>\n",
       "      <td>5</td>\n",
       "    </tr>\n",
       "    <tr>\n",
       "      <th>3</th>\n",
       "      <td>Good</td>\n",
       "      <td>5</td>\n",
       "    </tr>\n",
       "    <tr>\n",
       "      <th>4</th>\n",
       "      <td>did you missed putting a \"logout\" button? coul...</td>\n",
       "      <td>4</td>\n",
       "    </tr>\n",
       "    <tr>\n",
       "      <th>...</th>\n",
       "      <td>...</td>\n",
       "      <td>...</td>\n",
       "    </tr>\n",
       "    <tr>\n",
       "      <th>7010</th>\n",
       "      <td>Great app with infinite potential</td>\n",
       "      <td>5</td>\n",
       "    </tr>\n",
       "    <tr>\n",
       "      <th>7011</th>\n",
       "      <td>Good and works. Can be faster</td>\n",
       "      <td>5</td>\n",
       "    </tr>\n",
       "    <tr>\n",
       "      <th>7012</th>\n",
       "      <td>I could not access pac@gov after installing si...</td>\n",
       "      <td>2</td>\n",
       "    </tr>\n",
       "    <tr>\n",
       "      <th>7013</th>\n",
       "      <td>This is so awesome! Love it</td>\n",
       "      <td>5</td>\n",
       "    </tr>\n",
       "    <tr>\n",
       "      <th>7014</th>\n",
       "      <td>Safe and convenient! Love it!</td>\n",
       "      <td>5</td>\n",
       "    </tr>\n",
       "  </tbody>\n",
       "</table>\n",
       "<p>7015 rows × 2 columns</p>\n",
       "</div>"
      ],
      "text/plain": [
       "                                                content  score\n",
       "0                                             Vary good      5\n",
       "1                                                    🙏🏼      5\n",
       "2                                                  good      5\n",
       "3                                                  Good      5\n",
       "4     did you missed putting a \"logout\" button? coul...      4\n",
       "...                                                 ...    ...\n",
       "7010                  Great app with infinite potential      5\n",
       "7011                      Good and works. Can be faster      5\n",
       "7012  I could not access pac@gov after installing si...      2\n",
       "7013                        This is so awesome! Love it      5\n",
       "7014                      Safe and convenient! Love it!      5\n",
       "\n",
       "[7015 rows x 2 columns]"
      ]
     },
     "execution_count": 140,
     "metadata": {},
     "output_type": "execute_result"
    }
   ],
   "source": [
    "df_reviews"
   ]
  },
  {
   "cell_type": "code",
   "execution_count": 141,
   "metadata": {},
   "outputs": [],
   "source": [
    "# Convert the content and scores into numeric tensors\n",
    "import re #Import regex package  https://regexr.com/\n",
    "import emoji"
   ]
  },
  {
   "cell_type": "code",
   "execution_count": 142,
   "metadata": {},
   "outputs": [],
   "source": [
    "def demojize(content):\n",
    "    content = emoji.demojize(content, delimiters=(' ', ' '))\n",
    "    tokens = content.split()\n",
    "    ret_list = []\n",
    "    for token in tokens:\n",
    "        if len(token) > 3 and '_' in token:\n",
    "            token = token.replace('_', ' ')\n",
    "\n",
    "        if token[0] == '<' and token[-1] == '>':\n",
    "            token = token[1:-1]\n",
    "\n",
    "        ret_list.append(token)\n",
    "    content = ' '.join(ret_list)\n",
    "    \n",
    "    return content"
   ]
  },
  {
   "cell_type": "code",
   "execution_count": 143,
   "metadata": {},
   "outputs": [],
   "source": [
    "df_reviews['content'] =df_reviews['content'].astype(str).apply(demojize) "
   ]
  },
  {
   "cell_type": "code",
   "execution_count": 144,
   "metadata": {},
   "outputs": [
    {
     "data": {
      "text/html": [
       "<div>\n",
       "<style scoped>\n",
       "    .dataframe tbody tr th:only-of-type {\n",
       "        vertical-align: middle;\n",
       "    }\n",
       "\n",
       "    .dataframe tbody tr th {\n",
       "        vertical-align: top;\n",
       "    }\n",
       "\n",
       "    .dataframe thead th {\n",
       "        text-align: right;\n",
       "    }\n",
       "</style>\n",
       "<table border=\"1\" class=\"dataframe\">\n",
       "  <thead>\n",
       "    <tr style=\"text-align: right;\">\n",
       "      <th></th>\n",
       "      <th>content</th>\n",
       "      <th>score</th>\n",
       "    </tr>\n",
       "  </thead>\n",
       "  <tbody>\n",
       "    <tr>\n",
       "      <th>0</th>\n",
       "      <td>Vary good</td>\n",
       "      <td>5</td>\n",
       "    </tr>\n",
       "    <tr>\n",
       "      <th>1</th>\n",
       "      <td>folded hands medium-light skin tone</td>\n",
       "      <td>5</td>\n",
       "    </tr>\n",
       "    <tr>\n",
       "      <th>2</th>\n",
       "      <td>good</td>\n",
       "      <td>5</td>\n",
       "    </tr>\n",
       "    <tr>\n",
       "      <th>3</th>\n",
       "      <td>Good</td>\n",
       "      <td>5</td>\n",
       "    </tr>\n",
       "    <tr>\n",
       "      <th>4</th>\n",
       "      <td>did you missed putting a \"logout\" button? coul...</td>\n",
       "      <td>4</td>\n",
       "    </tr>\n",
       "    <tr>\n",
       "      <th>...</th>\n",
       "      <td>...</td>\n",
       "      <td>...</td>\n",
       "    </tr>\n",
       "    <tr>\n",
       "      <th>7010</th>\n",
       "      <td>Great app with infinite potential</td>\n",
       "      <td>5</td>\n",
       "    </tr>\n",
       "    <tr>\n",
       "      <th>7011</th>\n",
       "      <td>Good and works. Can be faster</td>\n",
       "      <td>5</td>\n",
       "    </tr>\n",
       "    <tr>\n",
       "      <th>7012</th>\n",
       "      <td>I could not access pac@gov after installing si...</td>\n",
       "      <td>2</td>\n",
       "    </tr>\n",
       "    <tr>\n",
       "      <th>7013</th>\n",
       "      <td>This is so awesome! Love it</td>\n",
       "      <td>5</td>\n",
       "    </tr>\n",
       "    <tr>\n",
       "      <th>7014</th>\n",
       "      <td>Safe and convenient! Love it!</td>\n",
       "      <td>5</td>\n",
       "    </tr>\n",
       "  </tbody>\n",
       "</table>\n",
       "<p>7015 rows × 2 columns</p>\n",
       "</div>"
      ],
      "text/plain": [
       "                                                content  score\n",
       "0                                             Vary good      5\n",
       "1                   folded hands medium-light skin tone      5\n",
       "2                                                  good      5\n",
       "3                                                  Good      5\n",
       "4     did you missed putting a \"logout\" button? coul...      4\n",
       "...                                                 ...    ...\n",
       "7010                  Great app with infinite potential      5\n",
       "7011                      Good and works. Can be faster      5\n",
       "7012  I could not access pac@gov after installing si...      2\n",
       "7013                        This is so awesome! Love it      5\n",
       "7014                      Safe and convenient! Love it!      5\n",
       "\n",
       "[7015 rows x 2 columns]"
      ]
     },
     "execution_count": 144,
     "metadata": {},
     "output_type": "execute_result"
    }
   ],
   "source": [
    "df_reviews"
   ]
  },
  {
   "cell_type": "code",
   "execution_count": 145,
   "metadata": {},
   "outputs": [],
   "source": [
    "df_reviews_new = df_reviews[df_reviews['content'].astype(str).map(lambda x: x.isascii())]"
   ]
  },
  {
   "cell_type": "code",
   "execution_count": 146,
   "metadata": {},
   "outputs": [
    {
     "data": {
      "text/html": [
       "<div>\n",
       "<style scoped>\n",
       "    .dataframe tbody tr th:only-of-type {\n",
       "        vertical-align: middle;\n",
       "    }\n",
       "\n",
       "    .dataframe tbody tr th {\n",
       "        vertical-align: top;\n",
       "    }\n",
       "\n",
       "    .dataframe thead th {\n",
       "        text-align: right;\n",
       "    }\n",
       "</style>\n",
       "<table border=\"1\" class=\"dataframe\">\n",
       "  <thead>\n",
       "    <tr style=\"text-align: right;\">\n",
       "      <th></th>\n",
       "      <th>content</th>\n",
       "      <th>score</th>\n",
       "    </tr>\n",
       "  </thead>\n",
       "  <tbody>\n",
       "    <tr>\n",
       "      <th>0</th>\n",
       "      <td>Vary good</td>\n",
       "      <td>5</td>\n",
       "    </tr>\n",
       "    <tr>\n",
       "      <th>1</th>\n",
       "      <td>folded hands medium-light skin tone</td>\n",
       "      <td>5</td>\n",
       "    </tr>\n",
       "    <tr>\n",
       "      <th>2</th>\n",
       "      <td>good</td>\n",
       "      <td>5</td>\n",
       "    </tr>\n",
       "    <tr>\n",
       "      <th>3</th>\n",
       "      <td>Good</td>\n",
       "      <td>5</td>\n",
       "    </tr>\n",
       "    <tr>\n",
       "      <th>4</th>\n",
       "      <td>did you missed putting a \"logout\" button? coul...</td>\n",
       "      <td>4</td>\n",
       "    </tr>\n",
       "    <tr>\n",
       "      <th>...</th>\n",
       "      <td>...</td>\n",
       "      <td>...</td>\n",
       "    </tr>\n",
       "    <tr>\n",
       "      <th>7010</th>\n",
       "      <td>Great app with infinite potential</td>\n",
       "      <td>5</td>\n",
       "    </tr>\n",
       "    <tr>\n",
       "      <th>7011</th>\n",
       "      <td>Good and works. Can be faster</td>\n",
       "      <td>5</td>\n",
       "    </tr>\n",
       "    <tr>\n",
       "      <th>7012</th>\n",
       "      <td>I could not access pac@gov after installing si...</td>\n",
       "      <td>2</td>\n",
       "    </tr>\n",
       "    <tr>\n",
       "      <th>7013</th>\n",
       "      <td>This is so awesome! Love it</td>\n",
       "      <td>5</td>\n",
       "    </tr>\n",
       "    <tr>\n",
       "      <th>7014</th>\n",
       "      <td>Safe and convenient! Love it!</td>\n",
       "      <td>5</td>\n",
       "    </tr>\n",
       "  </tbody>\n",
       "</table>\n",
       "<p>6983 rows × 2 columns</p>\n",
       "</div>"
      ],
      "text/plain": [
       "                                                content  score\n",
       "0                                             Vary good      5\n",
       "1                   folded hands medium-light skin tone      5\n",
       "2                                                  good      5\n",
       "3                                                  Good      5\n",
       "4     did you missed putting a \"logout\" button? coul...      4\n",
       "...                                                 ...    ...\n",
       "7010                  Great app with infinite potential      5\n",
       "7011                      Good and works. Can be faster      5\n",
       "7012  I could not access pac@gov after installing si...      2\n",
       "7013                        This is so awesome! Love it      5\n",
       "7014                      Safe and convenient! Love it!      5\n",
       "\n",
       "[6983 rows x 2 columns]"
      ]
     },
     "execution_count": 146,
     "metadata": {},
     "output_type": "execute_result"
    }
   ],
   "source": [
    "df_reviews_new"
   ]
  },
  {
   "cell_type": "code",
   "execution_count": 147,
   "metadata": {},
   "outputs": [],
   "source": [
    "#import translators as ts"
   ]
  },
  {
   "cell_type": "code",
   "execution_count": 148,
   "metadata": {},
   "outputs": [],
   "source": [
    "#a = df_reviews_new['content'][2]"
   ]
  },
  {
   "cell_type": "code",
   "execution_count": 149,
   "metadata": {},
   "outputs": [],
   "source": [
    "#a"
   ]
  },
  {
   "cell_type": "code",
   "execution_count": 150,
   "metadata": {},
   "outputs": [],
   "source": [
    "#ts.google(a)"
   ]
  },
  {
   "cell_type": "code",
   "execution_count": 151,
   "metadata": {},
   "outputs": [
    {
     "data": {
      "text/plain": [
       "5    3820\n",
       "1    1751\n",
       "4     670\n",
       "3     414\n",
       "2     328\n",
       "Name: score, dtype: int64"
      ]
     },
     "execution_count": 151,
     "metadata": {},
     "output_type": "execute_result"
    }
   ],
   "source": [
    "# Majority of the samples are having a score of 5 -thus we need to use stratifies sampling to sample the equal sized samples\n",
    "df_reviews_new.score.value_counts()"
   ]
  },
  {
   "cell_type": "code",
   "execution_count": 152,
   "metadata": {},
   "outputs": [],
   "source": [
    "df_reviews_new = df_reviews_new[df_reviews_new['content'].str.len()>10]"
   ]
  },
  {
   "cell_type": "code",
   "execution_count": 153,
   "metadata": {},
   "outputs": [
    {
     "data": {
      "text/plain": [
       "5    2632\n",
       "1    1681\n",
       "4     507\n",
       "3     361\n",
       "2     304\n",
       "Name: score, dtype: int64"
      ]
     },
     "execution_count": 153,
     "metadata": {},
     "output_type": "execute_result"
    }
   ],
   "source": [
    "df_reviews_new.score.value_counts()"
   ]
  },
  {
   "cell_type": "code",
   "execution_count": 154,
   "metadata": {},
   "outputs": [
    {
     "data": {
      "text/html": [
       "<div>\n",
       "<style scoped>\n",
       "    .dataframe tbody tr th:only-of-type {\n",
       "        vertical-align: middle;\n",
       "    }\n",
       "\n",
       "    .dataframe tbody tr th {\n",
       "        vertical-align: top;\n",
       "    }\n",
       "\n",
       "    .dataframe thead th {\n",
       "        text-align: right;\n",
       "    }\n",
       "</style>\n",
       "<table border=\"1\" class=\"dataframe\">\n",
       "  <thead>\n",
       "    <tr style=\"text-align: right;\">\n",
       "      <th></th>\n",
       "      <th>content</th>\n",
       "      <th>score</th>\n",
       "    </tr>\n",
       "  </thead>\n",
       "  <tbody>\n",
       "    <tr>\n",
       "      <th>1</th>\n",
       "      <td>folded hands medium-light skin tone</td>\n",
       "      <td>5</td>\n",
       "    </tr>\n",
       "    <tr>\n",
       "      <th>4</th>\n",
       "      <td>did you missed putting a \"logout\" button? coul...</td>\n",
       "      <td>4</td>\n",
       "    </tr>\n",
       "    <tr>\n",
       "      <th>5</th>\n",
       "      <td>No longer verify your fingerprint. I just real...</td>\n",
       "      <td>1</td>\n",
       "    </tr>\n",
       "    <tr>\n",
       "      <th>6</th>\n",
       "      <td>okays awaiting eagerly toward for the Queues t...</td>\n",
       "      <td>4</td>\n",
       "    </tr>\n",
       "    <tr>\n",
       "      <th>7</th>\n",
       "      <td>After changing my mobile phone. I try installi...</td>\n",
       "      <td>1</td>\n",
       "    </tr>\n",
       "    <tr>\n",
       "      <th>...</th>\n",
       "      <td>...</td>\n",
       "      <td>...</td>\n",
       "    </tr>\n",
       "    <tr>\n",
       "      <th>7010</th>\n",
       "      <td>Great app with infinite potential</td>\n",
       "      <td>5</td>\n",
       "    </tr>\n",
       "    <tr>\n",
       "      <th>7011</th>\n",
       "      <td>Good and works. Can be faster</td>\n",
       "      <td>5</td>\n",
       "    </tr>\n",
       "    <tr>\n",
       "      <th>7012</th>\n",
       "      <td>I could not access pac@gov after installing si...</td>\n",
       "      <td>2</td>\n",
       "    </tr>\n",
       "    <tr>\n",
       "      <th>7013</th>\n",
       "      <td>This is so awesome! Love it</td>\n",
       "      <td>5</td>\n",
       "    </tr>\n",
       "    <tr>\n",
       "      <th>7014</th>\n",
       "      <td>Safe and convenient! Love it!</td>\n",
       "      <td>5</td>\n",
       "    </tr>\n",
       "  </tbody>\n",
       "</table>\n",
       "<p>5485 rows × 2 columns</p>\n",
       "</div>"
      ],
      "text/plain": [
       "                                                content  score\n",
       "1                   folded hands medium-light skin tone      5\n",
       "4     did you missed putting a \"logout\" button? coul...      4\n",
       "5     No longer verify your fingerprint. I just real...      1\n",
       "6     okays awaiting eagerly toward for the Queues t...      4\n",
       "7     After changing my mobile phone. I try installi...      1\n",
       "...                                                 ...    ...\n",
       "7010                  Great app with infinite potential      5\n",
       "7011                      Good and works. Can be faster      5\n",
       "7012  I could not access pac@gov after installing si...      2\n",
       "7013                        This is so awesome! Love it      5\n",
       "7014                      Safe and convenient! Love it!      5\n",
       "\n",
       "[5485 rows x 2 columns]"
      ]
     },
     "execution_count": 154,
     "metadata": {},
     "output_type": "execute_result"
    }
   ],
   "source": [
    "df_reviews_new"
   ]
  },
  {
   "cell_type": "code",
   "execution_count": 155,
   "metadata": {},
   "outputs": [],
   "source": [
    "df_score1 = df_reviews_new[df_reviews_new['score']==1]\n",
    "df_score2 = df_reviews_new[df_reviews_new['score']==2]\n",
    "df_score3 = df_reviews_new[df_reviews_new['score']==3]\n",
    "df_score4 = df_reviews_new[df_reviews_new['score']==4]\n",
    "df_score5 = df_reviews_new[df_reviews_new['score']==5]"
   ]
  },
  {
   "cell_type": "code",
   "execution_count": 156,
   "metadata": {},
   "outputs": [
    {
     "data": {
      "text/plain": [
       "304"
      ]
     },
     "execution_count": 156,
     "metadata": {},
     "output_type": "execute_result"
    }
   ],
   "source": [
    "#review 2 has the least number\n",
    "len(df_score2)"
   ]
  },
  {
   "cell_type": "code",
   "execution_count": 157,
   "metadata": {},
   "outputs": [],
   "source": [
    "#sample reviews with score 1/3/4/5\n",
    "df_score1_sampled = df_score1.sample(n=len(df_score2),random_state = 1).copy()\n",
    "df_score3_sampled = df_score3.sample(n=len(df_score2),random_state = 1).copy()\n",
    "df_score4_sampled = df_score4.sample(n=len(df_score2),random_state = 1).copy()\n",
    "df_score5_sampled = df_score5.sample(n=len(df_score2),random_state = 1).copy()"
   ]
  },
  {
   "cell_type": "code",
   "execution_count": 158,
   "metadata": {},
   "outputs": [
    {
     "data": {
      "text/plain": [
       "5    304\n",
       "4    304\n",
       "3    304\n",
       "2    304\n",
       "1    304\n",
       "Name: score, dtype: int64"
      ]
     },
     "execution_count": 158,
     "metadata": {},
     "output_type": "execute_result"
    }
   ],
   "source": [
    "df_new = pd.concat([df_score1_sampled,df_score2,df_score3_sampled,df_score4_sampled,df_score5_sampled], axis=0, ignore_index=True)\n",
    "df_new.score.value_counts()"
   ]
  },
  {
   "cell_type": "code",
   "execution_count": 159,
   "metadata": {},
   "outputs": [
    {
     "data": {
      "text/html": [
       "<div>\n",
       "<style scoped>\n",
       "    .dataframe tbody tr th:only-of-type {\n",
       "        vertical-align: middle;\n",
       "    }\n",
       "\n",
       "    .dataframe tbody tr th {\n",
       "        vertical-align: top;\n",
       "    }\n",
       "\n",
       "    .dataframe thead th {\n",
       "        text-align: right;\n",
       "    }\n",
       "</style>\n",
       "<table border=\"1\" class=\"dataframe\">\n",
       "  <thead>\n",
       "    <tr style=\"text-align: right;\">\n",
       "      <th></th>\n",
       "      <th>content</th>\n",
       "      <th>score</th>\n",
       "    </tr>\n",
       "  </thead>\n",
       "  <tbody>\n",
       "    <tr>\n",
       "      <th>0</th>\n",
       "      <td>Doesn't work half the time</td>\n",
       "      <td>1</td>\n",
       "    </tr>\n",
       "    <tr>\n",
       "      <th>1</th>\n",
       "      <td>couldnt even load</td>\n",
       "      <td>1</td>\n",
       "    </tr>\n",
       "    <tr>\n",
       "      <th>2</th>\n",
       "      <td>The App keeps failing and said it had other ap...</td>\n",
       "      <td>1</td>\n",
       "    </tr>\n",
       "    <tr>\n",
       "      <th>3</th>\n",
       "      <td>Took.a long time to.download</td>\n",
       "      <td>1</td>\n",
       "    </tr>\n",
       "    <tr>\n",
       "      <th>4</th>\n",
       "      <td>Entered otp then failed</td>\n",
       "      <td>1</td>\n",
       "    </tr>\n",
       "    <tr>\n",
       "      <th>...</th>\n",
       "      <td>...</td>\n",
       "      <td>...</td>\n",
       "    </tr>\n",
       "    <tr>\n",
       "      <th>1515</th>\n",
       "      <td>Very useful and convenient!</td>\n",
       "      <td>5</td>\n",
       "    </tr>\n",
       "    <tr>\n",
       "      <th>1516</th>\n",
       "      <td>Not too bad</td>\n",
       "      <td>5</td>\n",
       "    </tr>\n",
       "    <tr>\n",
       "      <th>1517</th>\n",
       "      <td>easier to log in.</td>\n",
       "      <td>5</td>\n",
       "    </tr>\n",
       "    <tr>\n",
       "      <th>1518</th>\n",
       "      <td>Simple yet effective</td>\n",
       "      <td>5</td>\n",
       "    </tr>\n",
       "    <tr>\n",
       "      <th>1519</th>\n",
       "      <td>Great app to use! Thanks</td>\n",
       "      <td>5</td>\n",
       "    </tr>\n",
       "  </tbody>\n",
       "</table>\n",
       "<p>1520 rows × 2 columns</p>\n",
       "</div>"
      ],
      "text/plain": [
       "                                                content  score\n",
       "0                            Doesn't work half the time      1\n",
       "1                                     couldnt even load      1\n",
       "2     The App keeps failing and said it had other ap...      1\n",
       "3                          Took.a long time to.download      1\n",
       "4                               Entered otp then failed      1\n",
       "...                                                 ...    ...\n",
       "1515                        Very useful and convenient!      5\n",
       "1516                                        Not too bad      5\n",
       "1517                                  easier to log in.      5\n",
       "1518                               Simple yet effective      5\n",
       "1519                           Great app to use! Thanks      5\n",
       "\n",
       "[1520 rows x 2 columns]"
      ]
     },
     "execution_count": 159,
     "metadata": {},
     "output_type": "execute_result"
    }
   ],
   "source": [
    "df_new"
   ]
  },
  {
   "cell_type": "markdown",
   "metadata": {},
   "source": [
    "### 1.2 Data Processing\n"
   ]
  },
  {
   "cell_type": "code",
   "execution_count": 160,
   "metadata": {},
   "outputs": [],
   "source": [
    "#remove upper capatilization\n",
    "def to_lowercase(content):\n",
    "    content = content.lower()\n",
    "    return content"
   ]
  },
  {
   "cell_type": "code",
   "execution_count": 161,
   "metadata": {},
   "outputs": [],
   "source": [
    "#remove word repetition\n",
    "def word_repetition(content):\n",
    "  content = re.sub(r'(.)\\1+', r'\\1\\1', content)\n",
    "  return content"
   ]
  },
  {
   "cell_type": "code",
   "execution_count": 162,
   "metadata": {},
   "outputs": [],
   "source": [
    "#remove punctuation repetition\n",
    "def punct_repetition(content, default_replace=\"\"):\n",
    "  content = re.sub(r'[\\?\\.\\!]+(?=[\\?\\.\\!])', default_replace, content)\n",
    "  return content"
   ]
  },
  {
   "cell_type": "code",
   "execution_count": 163,
   "metadata": {},
   "outputs": [],
   "source": [
    "#remove contractions\n",
    "import contractions "
   ]
  },
  {
   "cell_type": "code",
   "execution_count": 164,
   "metadata": {},
   "outputs": [
    {
     "name": "stdout",
     "output_type": "stream",
     "text": [
      "{\"I'm\": 'I am', \"I'm'a\": 'I am about to', \"I'm'o\": 'I am going to', \"I've\": 'I have', \"I'll\": 'I will', \"I'll've\": 'I will have', \"I'd\": 'I would', \"I'd've\": 'I would have', 'Whatcha': 'What are you', \"amn't\": 'am not', \"ain't\": 'are not', \"aren't\": 'are not', \"'cause\": 'because', \"can't\": 'cannot', \"can't've\": 'cannot have', \"could've\": 'could have', \"couldn't\": 'could not', \"couldn't've\": 'could not have', \"daren't\": 'dare not', \"daresn't\": 'dare not', \"dasn't\": 'dare not', \"didn't\": 'did not', 'didn’t': 'did not', \"don't\": 'do not', 'don’t': 'do not', \"doesn't\": 'does not', \"e'er\": 'ever', \"everyone's\": 'everyone is', 'finna': 'fixing to', 'gimme': 'give me', \"gon't\": 'go not', 'gonna': 'going to', 'gotta': 'got to', \"hadn't\": 'had not', \"hadn't've\": 'had not have', \"hasn't\": 'has not', \"haven't\": 'have not', \"he've\": 'he have', \"he's\": 'he is', \"he'll\": 'he will', \"he'll've\": 'he will have', \"he'd\": 'he would', \"he'd've\": 'he would have', \"here's\": 'here is', \"how're\": 'how are', \"how'd\": 'how did', \"how'd'y\": 'how do you', \"how's\": 'how is', \"how'll\": 'how will', \"isn't\": 'is not', \"it's\": 'it is', \"'tis\": 'it is', \"'twas\": 'it was', \"it'll\": 'it will', \"it'll've\": 'it will have', \"it'd\": 'it would', \"it'd've\": 'it would have', 'kinda': 'kind of', \"let's\": 'let us', 'luv': 'love', \"ma'am\": 'madam', \"may've\": 'may have', \"mayn't\": 'may not', \"might've\": 'might have', \"mightn't\": 'might not', \"mightn't've\": 'might not have', \"must've\": 'must have', \"mustn't\": 'must not', \"mustn't've\": 'must not have', \"needn't\": 'need not', \"needn't've\": 'need not have', \"ne'er\": 'never', \"o'\": 'of', \"o'clock\": 'of the clock', \"ol'\": 'old', \"oughtn't\": 'ought not', \"oughtn't've\": 'ought not have', \"o'er\": 'over', \"shan't\": 'shall not', \"sha'n't\": 'shall not', \"shalln't\": 'shall not', \"shan't've\": 'shall not have', \"she's\": 'she is', \"she'll\": 'she will', \"she'd\": 'she would', \"she'd've\": 'she would have', \"should've\": 'should have', \"shouldn't\": 'should not', \"shouldn't've\": 'should not have', \"so've\": 'so have', \"so's\": 'so is', \"somebody's\": 'somebody is', \"someone's\": 'someone is', \"something's\": 'something is', 'sux': 'sucks', \"that're\": 'that are', \"that's\": 'that is', \"that'll\": 'that will', \"that'd\": 'that would', \"that'd've\": 'that would have', 'em': 'them', \"there're\": 'there are', \"there's\": 'there is', \"there'll\": 'there will', \"there'd\": 'there would', \"there'd've\": 'there would have', \"these're\": 'these are', \"they're\": 'they are', \"they've\": 'they have', \"they'll\": 'they will', \"they'll've\": 'they will have', \"they'd\": 'they would', \"they'd've\": 'they would have', \"this's\": 'this is', \"this'll\": 'this will', \"this'd\": 'this would', \"those're\": 'those are', \"to've\": 'to have', 'wanna': 'want to', \"wasn't\": 'was not', \"we're\": 'we are', \"we've\": 'we have', \"we'll\": 'we will', \"we'll've\": 'we will have', \"we'd\": 'we would', \"we'd've\": 'we would have', \"weren't\": 'were not', \"what're\": 'what are', \"what'd\": 'what did', \"what've\": 'what have', \"what's\": 'what is', \"what'll\": 'what will', \"what'll've\": 'what will have', \"when've\": 'when have', \"when's\": 'when is', \"where're\": 'where are', \"where'd\": 'where did', \"where've\": 'where have', \"where's\": 'where is', \"which's\": 'which is', \"who're\": 'who are', \"who've\": 'who have', \"who's\": 'who is', \"who'll\": 'who will', \"who'll've\": 'who will have', \"who'd\": 'who would', \"who'd've\": 'who would have', \"why're\": 'why are', \"why'd\": 'why did', \"why've\": 'why have', \"why's\": 'why is', \"will've\": 'will have', \"won't\": 'will not', \"won't've\": 'will not have', \"would've\": 'would have', \"wouldn't\": 'would not', \"wouldn't've\": 'would not have', \"y'all\": 'you all', \"y'all're\": 'you all are', \"y'all've\": 'you all have', \"y'all'd\": 'you all would', \"y'all'd've\": 'you all would have', \"you're\": 'you are', \"you've\": 'you have', \"you'll've\": 'you shall have', \"you'll\": 'you will', \"you'd\": 'you would', \"you'd've\": 'you would have', 'to cause': 'to cause', 'will cause': 'will cause', 'should cause': 'should cause', 'would cause': 'would cause', 'can cause': 'can cause', 'could cause': 'could cause', 'must cause': 'must cause', 'might cause': 'might cause', 'shall cause': 'shall cause', 'may cause': 'may cause', 'jan.': 'january', 'feb.': 'february', 'mar.': 'march', 'apr.': 'april', 'jun.': 'june', 'jul.': 'july', 'aug.': 'august', 'sep.': 'september', 'oct.': 'october', 'nov.': 'november', 'dec.': 'december', 'I’m': 'I am', 'I’m’a': 'I am about to', 'I’m’o': 'I am going to', 'I’ve': 'I have', 'I’ll': 'I will', 'I’ll’ve': 'I will have', 'I’d': 'I would', 'I’d’ve': 'I would have', 'amn’t': 'am not', 'ain’t': 'are not', 'aren’t': 'are not', '’cause': 'because', 'can’t': 'cannot', 'can’t’ve': 'cannot have', 'could’ve': 'could have', 'couldn’t': 'could not', 'couldn’t’ve': 'could not have', 'daren’t': 'dare not', 'daresn’t': 'dare not', 'dasn’t': 'dare not', 'doesn’t': 'does not', 'e’er': 'ever', 'everyone’s': 'everyone is', 'gon’t': 'go not', 'hadn’t': 'had not', 'hadn’t’ve': 'had not have', 'hasn’t': 'has not', 'haven’t': 'have not', 'he’ve': 'he have', 'he’s': 'he is', 'he’ll': 'he will', 'he’ll’ve': 'he will have', 'he’d': 'he would', 'he’d’ve': 'he would have', 'here’s': 'here is', 'how’re': 'how are', 'how’d': 'how did', 'how’d’y': 'how do you', 'how’s': 'how is', 'how’ll': 'how will', 'isn’t': 'is not', 'it’s': 'it is', '’tis': 'it is', '’twas': 'it was', 'it’ll': 'it will', 'it’ll’ve': 'it will have', 'it’d': 'it would', 'it’d’ve': 'it would have', 'let’s': 'let us', 'ma’am': 'madam', 'may’ve': 'may have', 'mayn’t': 'may not', 'might’ve': 'might have', 'mightn’t': 'might not', 'mightn’t’ve': 'might not have', 'must’ve': 'must have', 'mustn’t': 'must not', 'mustn’t’ve': 'must not have', 'needn’t': 'need not', 'needn’t’ve': 'need not have', 'ne’er': 'never', 'o’': 'of', 'o’clock': 'of the clock', 'ol’': 'old', 'oughtn’t': 'ought not', 'oughtn’t’ve': 'ought not have', 'o’er': 'over', 'shan’t': 'shall not', 'sha’n’t': 'shall not', 'shalln’t': 'shall not', 'shan’t’ve': 'shall not have', 'she’s': 'she is', 'she’ll': 'she will', 'she’d': 'she would', 'she’d’ve': 'she would have', 'should’ve': 'should have', 'shouldn’t': 'should not', 'shouldn’t’ve': 'should not have', 'so’ve': 'so have', 'so’s': 'so is', 'somebody’s': 'somebody is', 'someone’s': 'someone is', 'something’s': 'something is', 'that’re': 'that are', 'that’s': 'that is', 'that’ll': 'that will', 'that’d': 'that would', 'that’d’ve': 'that would have', 'there’re': 'there are', 'there’s': 'there is', 'there’ll': 'there will', 'there’d': 'there would', 'there’d’ve': 'there would have', 'these’re': 'these are', 'they’re': 'they are', 'they’ve': 'they have', 'they’ll': 'they will', 'they’ll’ve': 'they will have', 'they’d': 'they would', 'they’d’ve': 'they would have', 'this’s': 'this is', 'this’ll': 'this will', 'this’d': 'this would', 'those’re': 'those are', 'to’ve': 'to have', 'wasn’t': 'was not', 'we’re': 'we are', 'we’ve': 'we have', 'we’ll': 'we will', 'we’ll’ve': 'we will have', 'we’d': 'we would', 'we’d’ve': 'we would have', 'weren’t': 'were not', 'what’re': 'what are', 'what’d': 'what did', 'what’ve': 'what have', 'what’s': 'what is', 'what’ll': 'what will', 'what’ll’ve': 'what will have', 'when’ve': 'when have', 'when’s': 'when is', 'where’re': 'where are', 'where’d': 'where did', 'where’ve': 'where have', 'where’s': 'where is', 'which’s': 'which is', 'who’re': 'who are', 'who’ve': 'who have', 'who’s': 'who is', 'who’ll': 'who will', 'who’ll’ve': 'who will have', 'who’d': 'who would', 'who’d’ve': 'who would have', 'why’re': 'why are', 'why’d': 'why did', 'why’ve': 'why have', 'why’s': 'why is', 'will’ve': 'will have', 'won’t': 'will not', 'won’t’ve': 'will not have', 'would’ve': 'would have', 'wouldn’t': 'would not', 'wouldn’t’ve': 'would not have', 'y’all': 'you all', 'y’all’re': 'you all are', 'y’all’ve': 'you all have', 'y’all’d': 'you all would', 'y’all’d’ve': 'you all would have', 'you’re': 'you are', 'you’ve': 'you have', 'you’ll’ve': 'you shall have', 'you’ll': 'you will', 'you’d': 'you would', 'you’d’ve': 'you would have'}\n"
     ]
    }
   ],
   "source": [
    "#Use contractions_dict to list most common contractions\n",
    "print(contractions.contractions_dict)"
   ]
  },
  {
   "cell_type": "code",
   "execution_count": 165,
   "metadata": {},
   "outputs": [],
   "source": [
    "def fix_contractions(content):\n",
    "  content = contractions.fix(content)\n",
    "  return content"
   ]
  },
  {
   "cell_type": "code",
   "execution_count": 166,
   "metadata": {},
   "outputs": [],
   "source": [
    "def clean_content(content, verbose=False):\n",
    "    if verbose: print(\"Initial content: {}\".format(content))\n",
    "        ## Word Features\n",
    "    content = to_lowercase(content) # lower case\n",
    "    content = fix_contractions(content) # replace contractions\n",
    "    content = punct_repetition(content) # replace punctuation repetition\n",
    "    content = word_repetition(content) # replace word repetition\n",
    "    content = demojize(content) # replace emojis\n",
    "    if verbose: print(\"Post Word processing content: {}\".format(content))\n",
    "    return content"
   ]
  },
  {
   "cell_type": "code",
   "execution_count": 167,
   "metadata": {},
   "outputs": [],
   "source": [
    "df_new[\"content_clean\"] = df_new[\"content\"].astype(str).apply(clean_content)"
   ]
  },
  {
   "cell_type": "code",
   "execution_count": 168,
   "metadata": {},
   "outputs": [
    {
     "data": {
      "text/html": [
       "<div>\n",
       "<style scoped>\n",
       "    .dataframe tbody tr th:only-of-type {\n",
       "        vertical-align: middle;\n",
       "    }\n",
       "\n",
       "    .dataframe tbody tr th {\n",
       "        vertical-align: top;\n",
       "    }\n",
       "\n",
       "    .dataframe thead th {\n",
       "        text-align: right;\n",
       "    }\n",
       "</style>\n",
       "<table border=\"1\" class=\"dataframe\">\n",
       "  <thead>\n",
       "    <tr style=\"text-align: right;\">\n",
       "      <th></th>\n",
       "      <th>content</th>\n",
       "      <th>score</th>\n",
       "      <th>content_clean</th>\n",
       "    </tr>\n",
       "  </thead>\n",
       "  <tbody>\n",
       "    <tr>\n",
       "      <th>0</th>\n",
       "      <td>Doesn't work half the time</td>\n",
       "      <td>1</td>\n",
       "      <td>does not work half the time</td>\n",
       "    </tr>\n",
       "    <tr>\n",
       "      <th>1</th>\n",
       "      <td>couldnt even load</td>\n",
       "      <td>1</td>\n",
       "      <td>could not even load</td>\n",
       "    </tr>\n",
       "    <tr>\n",
       "      <th>2</th>\n",
       "      <td>The App keeps failing and said it had other ap...</td>\n",
       "      <td>1</td>\n",
       "      <td>the app keeps failing and said it had other ap...</td>\n",
       "    </tr>\n",
       "    <tr>\n",
       "      <th>3</th>\n",
       "      <td>Took.a long time to.download</td>\n",
       "      <td>1</td>\n",
       "      <td>took.a long time to.download</td>\n",
       "    </tr>\n",
       "    <tr>\n",
       "      <th>4</th>\n",
       "      <td>Entered otp then failed</td>\n",
       "      <td>1</td>\n",
       "      <td>entered otp then failed</td>\n",
       "    </tr>\n",
       "    <tr>\n",
       "      <th>...</th>\n",
       "      <td>...</td>\n",
       "      <td>...</td>\n",
       "      <td>...</td>\n",
       "    </tr>\n",
       "    <tr>\n",
       "      <th>1515</th>\n",
       "      <td>Very useful and convenient!</td>\n",
       "      <td>5</td>\n",
       "      <td>very useful and convenient!</td>\n",
       "    </tr>\n",
       "    <tr>\n",
       "      <th>1516</th>\n",
       "      <td>Not too bad</td>\n",
       "      <td>5</td>\n",
       "      <td>not too bad</td>\n",
       "    </tr>\n",
       "    <tr>\n",
       "      <th>1517</th>\n",
       "      <td>easier to log in.</td>\n",
       "      <td>5</td>\n",
       "      <td>easier to log in.</td>\n",
       "    </tr>\n",
       "    <tr>\n",
       "      <th>1518</th>\n",
       "      <td>Simple yet effective</td>\n",
       "      <td>5</td>\n",
       "      <td>simple yet effective</td>\n",
       "    </tr>\n",
       "    <tr>\n",
       "      <th>1519</th>\n",
       "      <td>Great app to use! Thanks</td>\n",
       "      <td>5</td>\n",
       "      <td>great app to use! thanks</td>\n",
       "    </tr>\n",
       "  </tbody>\n",
       "</table>\n",
       "<p>1520 rows × 3 columns</p>\n",
       "</div>"
      ],
      "text/plain": [
       "                                                content  score  \\\n",
       "0                            Doesn't work half the time      1   \n",
       "1                                     couldnt even load      1   \n",
       "2     The App keeps failing and said it had other ap...      1   \n",
       "3                          Took.a long time to.download      1   \n",
       "4                               Entered otp then failed      1   \n",
       "...                                                 ...    ...   \n",
       "1515                        Very useful and convenient!      5   \n",
       "1516                                        Not too bad      5   \n",
       "1517                                  easier to log in.      5   \n",
       "1518                               Simple yet effective      5   \n",
       "1519                           Great app to use! Thanks      5   \n",
       "\n",
       "                                          content_clean  \n",
       "0                           does not work half the time  \n",
       "1                                   could not even load  \n",
       "2     the app keeps failing and said it had other ap...  \n",
       "3                          took.a long time to.download  \n",
       "4                               entered otp then failed  \n",
       "...                                                 ...  \n",
       "1515                        very useful and convenient!  \n",
       "1516                                        not too bad  \n",
       "1517                                  easier to log in.  \n",
       "1518                               simple yet effective  \n",
       "1519                           great app to use! thanks  \n",
       "\n",
       "[1520 rows x 3 columns]"
      ]
     },
     "execution_count": 168,
     "metadata": {},
     "output_type": "execute_result"
    }
   ],
   "source": [
    "df_new"
   ]
  },
  {
   "cell_type": "code",
   "execution_count": 169,
   "metadata": {},
   "outputs": [],
   "source": [
    "#import translators as ts"
   ]
  },
  {
   "cell_type": "code",
   "execution_count": 170,
   "metadata": {},
   "outputs": [],
   "source": [
    "#a = df_new['content_clean'][43849]"
   ]
  },
  {
   "cell_type": "code",
   "execution_count": 171,
   "metadata": {},
   "outputs": [],
   "source": [
    "#a"
   ]
  },
  {
   "cell_type": "code",
   "execution_count": 172,
   "metadata": {},
   "outputs": [],
   "source": [
    "#ts.google(a)"
   ]
  },
  {
   "cell_type": "code",
   "execution_count": 173,
   "metadata": {},
   "outputs": [],
   "source": [
    "#c = []\n",
    "#for i in df_new['content_clean']:\n",
    "    \n",
    "    #try:\n",
    "        #c.append(ts.google(i))\n",
    "    #except:\n",
    "        #c.append(i)"
   ]
  },
  {
   "cell_type": "code",
   "execution_count": 174,
   "metadata": {},
   "outputs": [
    {
     "name": "stderr",
     "output_type": "stream",
     "text": [
      "[nltk_data] Downloading package punkt to\n",
      "[nltk_data]     C:\\Users\\Gayle\\AppData\\Roaming\\nltk_data...\n",
      "[nltk_data]   Package punkt is already up-to-date!\n"
     ]
    },
    {
     "data": {
      "text/plain": [
       "True"
      ]
     },
     "execution_count": 174,
     "metadata": {},
     "output_type": "execute_result"
    }
   ],
   "source": [
    "#tokenisation\n",
    "import nltk\n",
    "from nltk.tokenize import word_tokenize\n",
    "nltk.download('punkt')"
   ]
  },
  {
   "cell_type": "code",
   "execution_count": 175,
   "metadata": {},
   "outputs": [],
   "source": [
    "def tokenize(content):\n",
    "  tokens = word_tokenize(content)\n",
    "  return tokens"
   ]
  },
  {
   "cell_type": "code",
   "execution_count": 176,
   "metadata": {},
   "outputs": [],
   "source": [
    "import string"
   ]
  },
  {
   "cell_type": "code",
   "execution_count": 177,
   "metadata": {},
   "outputs": [
    {
     "name": "stdout",
     "output_type": "stream",
     "text": [
      "!\"#$%&'()*+,-./:;<=>?@[\\]^_`{|}~\n"
     ]
    }
   ],
   "source": [
    "print(string.punctuation)"
   ]
  },
  {
   "cell_type": "code",
   "execution_count": 178,
   "metadata": {},
   "outputs": [
    {
     "name": "stderr",
     "output_type": "stream",
     "text": [
      "[nltk_data] Downloading package stopwords to\n",
      "[nltk_data]     C:\\Users\\Gayle\\AppData\\Roaming\\nltk_data...\n",
      "[nltk_data]   Package stopwords is already up-to-date!\n"
     ]
    },
    {
     "data": {
      "text/plain": [
       "True"
      ]
     },
     "execution_count": 178,
     "metadata": {},
     "output_type": "execute_result"
    }
   ],
   "source": [
    "from nltk.corpus import stopwords\n",
    "nltk.download('stopwords')"
   ]
  },
  {
   "cell_type": "code",
   "execution_count": 179,
   "metadata": {},
   "outputs": [
    {
     "name": "stdout",
     "output_type": "stream",
     "text": [
      "{\"mightn't\", 'through', \"didn't\", 'only', 'needn', \"shouldn't\", 'will', 'should', 'being', 'into', 'few', \"needn't\", 'he', \"you've\", 'those', 'but', 'before', 'hers', 'until', 'aren', 'shan', \"wouldn't\", 'y', \"that'll\", 'such', 'so', 'myself', 'for', 'me', 'up', 'be', 'its', 'is', 'off', 'isn', 'shouldn', 'wasn', 'by', 'they', 'do', 'further', 'd', 'o', 'couldn', \"should've\", \"it's\", 'my', 'not', 'we', 'once', \"mustn't\", 'have', 'his', 'nor', \"doesn't\", 'had', 'when', 'ma', 'after', 'haven', 'been', \"weren't\", 'this', 'against', 'hadn', 'down', 'in', \"don't\", 'why', 'itself', 'who', 'from', 'of', 'am', 'an', 'll', 'himself', 'does', 'whom', 'now', 'doesn', 'didn', 'most', 'she', 'yourself', 'as', 'very', 'how', 'ours', 'him', 'i', \"isn't\", 'yourselves', \"hadn't\", 'too', \"won't\", 'were', 'at', 'them', 'that', 'below', 'wouldn', 'own', 'yours', 'because', 'are', 'or', 'the', 't', 'to', 'above', 'our', 'all', 'it', 'weren', 'ain', 've', 'can', 'some', 'then', 'where', 'than', 'under', 'while', 'won', \"you'd\", 'if', 'has', 'don', 'there', 'their', 'here', \"aren't\", 're', \"she's\", 's', 'herself', 'ourselves', 'which', 'mightn', 'just', 'a', 'doing', 'did', 'over', 'same', 'm', \"couldn't\", \"you're\", 'any', 'you', 'about', 'no', \"hasn't\", 'was', 'her', 'these', 'out', 'mustn', 'what', 'theirs', 'during', \"haven't\", \"you'll\", 'having', 'each', 'more', 'with', 'your', 'hasn', 'other', 'on', 'again', 'both', \"shan't\", 'themselves', 'and', \"wasn't\", 'between'}\n"
     ]
    }
   ],
   "source": [
    "stop_words = set(stopwords.words('english'))\n",
    "print(stop_words)"
   ]
  },
  {
   "cell_type": "code",
   "execution_count": 180,
   "metadata": {},
   "outputs": [
    {
     "name": "stdout",
     "output_type": "stream",
     "text": [
      "{\"mightn't\", 'through', \"didn't\", 'only', 'needn', \"shouldn't\", 'will', 'should', 'being', 'into', 'few', \"needn't\", 'he', \"you've\", 'those', 'but', 'before', 'hers', 'until', 'aren', 'shan', \"wouldn't\", 'y', \"that'll\", 'such', 'so', 'myself', 'for', 'me', 'up', 'be', 'its', 'is', 'off', 'isn', 'shouldn', 'wasn', 'by', 'they', 'do', 'further', 'd', 'o', 'couldn', \"should've\", \"it's\", 'my', 'we', 'once', \"mustn't\", 'have', 'his', 'nor', \"doesn't\", 'had', 'when', 'ma', 'after', 'haven', 'been', \"weren't\", 'this', 'against', 'hadn', 'down', 'in', \"don't\", 'why', 'itself', 'who', 'from', 'of', 'am', 'an', 'll', 'himself', 'does', 'whom', 'now', 'doesn', 'didn', 'most', 'she', 'yourself', 'as', 'very', 'how', 'ours', 'him', 'i', \"isn't\", 'yourselves', \"hadn't\", 'too', \"won't\", 'were', 'at', 'them', 'that', 'below', 'wouldn', 'own', 'yours', 'because', 'are', 'or', 'the', 't', 'to', 'above', 'our', 'all', 'it', 'weren', 'ain', 've', 'can', 'some', 'then', 'where', 'than', 'under', 'while', 'won', \"you'd\", 'if', 'has', 'don', 'there', 'their', 'here', \"aren't\", 're', \"she's\", 's', 'herself', 'ourselves', 'which', 'mightn', 'just', 'a', 'doing', 'did', 'over', 'same', 'm', \"couldn't\", \"you're\", 'any', 'you', 'about', 'no', \"hasn't\", 'was', 'her', 'these', 'out', 'mustn', 'what', 'theirs', 'during', \"haven't\", \"you'll\", 'having', 'each', 'more', 'with', 'your', 'hasn', 'other', 'on', 'again', 'both', \"shan't\", 'themselves', 'and', \"wasn't\", 'between'}\n"
     ]
    }
   ],
   "source": [
    "#remove some stopwords from the set (i.e. not)\n",
    "stop_words.discard('not')\n",
    "print(stop_words)"
   ]
  },
  {
   "cell_type": "code",
   "execution_count": 181,
   "metadata": {},
   "outputs": [],
   "source": [
    "#Create a custom_tokenize function\n",
    "\n",
    "def custom_tokenize(content,\n",
    "                    keep_punct = False,\n",
    "                    keep_alnum = False,\n",
    "                    keep_stop = False):\n",
    "  \n",
    "  token_list = word_tokenize(content)\n",
    "\n",
    "  if not keep_punct:\n",
    "    token_list = [token for token in token_list\n",
    "                  if token not in string.punctuation]\n",
    "\n",
    "  if not keep_alnum:\n",
    "    token_list = [token for token in token_list if token.isalpha()]\n",
    "  \n",
    "  if not keep_stop:\n",
    "    stop_words = set(stopwords.words('english'))\n",
    "    stop_words.discard('not')\n",
    "    stop_words.add('tiktok')\n",
    "    token_list = [token for token in token_list if not token in stop_words]\n",
    "\n",
    "  return token_list"
   ]
  },
  {
   "cell_type": "code",
   "execution_count": 182,
   "metadata": {},
   "outputs": [],
   "source": [
    "#Stemming\n",
    "#NLTK.stem? Head over to: https://www.nltk.org/api/nltk.stem.html\n",
    "from nltk.stem import PorterStemmer\n",
    "from nltk.stem import LancasterStemmer\n",
    "from nltk.stem.snowball import SnowballStemmer"
   ]
  },
  {
   "cell_type": "code",
   "execution_count": 183,
   "metadata": {},
   "outputs": [
    {
     "name": "stderr",
     "output_type": "stream",
     "text": [
      "[nltk_data] Downloading package wordnet to\n",
      "[nltk_data]     C:\\Users\\Gayle\\AppData\\Roaming\\nltk_data...\n",
      "[nltk_data]   Package wordnet is already up-to-date!\n"
     ]
    },
    {
     "data": {
      "text/plain": [
       "True"
      ]
     },
     "execution_count": 183,
     "metadata": {},
     "output_type": "execute_result"
    }
   ],
   "source": [
    "from nltk.stem import WordNetLemmatizer\n",
    "from nltk.corpus import wordnet\n",
    "nltk.download('wordnet')"
   ]
  },
  {
   "cell_type": "code",
   "execution_count": 184,
   "metadata": {},
   "outputs": [],
   "source": [
    "lemmatizer = WordNetLemmatizer()"
   ]
  },
  {
   "cell_type": "code",
   "execution_count": 185,
   "metadata": {},
   "outputs": [],
   "source": [
    "def lemmatize_tokens(tokens, lemmatizer):\n",
    "  token_list = []\n",
    "  for token in tokens:\n",
    "    token_list.append(lemmatizer.lemmatize(token))\n",
    "  return token_list"
   ]
  },
  {
   "cell_type": "code",
   "execution_count": 186,
   "metadata": {},
   "outputs": [],
   "source": [
    "def stem_tokens(tokens, stemmer):\n",
    "  token_list = []\n",
    "  for token in tokens:\n",
    "    token_list.append(stemmer.stem(token))\n",
    "  return token_list"
   ]
  },
  {
   "cell_type": "code",
   "execution_count": 187,
   "metadata": {},
   "outputs": [],
   "source": [
    "def process_content(content, verbose=False):\n",
    "  if verbose: print(\"Initial content: {}\".format(content))\n",
    "\n",
    "\n",
    "  ## Word Features\n",
    "  content = to_lowercase(content) # lower case\n",
    "  content = fix_contractions(content) # replace contractions\n",
    "  content = punct_repetition(content) # replace punctuation repetition\n",
    "  content = word_repetition(content) # replace word repetition\n",
    "  content = demojize(content) # replace emojis\n",
    "  if verbose: print(\"Post Word processing content: {}\".format(content))\n",
    "\n",
    "  ## Tokenization & Stemming\n",
    "  tokens = custom_tokenize(content, keep_alnum=False, keep_stop=False) # tokenize\n",
    "  lemmatizer = WordNetLemmatizer() # define lemmeatixer\n",
    "  lem = lemmatize_tokens(tokens, lemmatizer) # stem tokens\n",
    "\n",
    "  return lem"
   ]
  },
  {
   "cell_type": "code",
   "execution_count": 188,
   "metadata": {},
   "outputs": [],
   "source": [
    "df_new.content = df_new.content.astype(str)"
   ]
  },
  {
   "cell_type": "code",
   "execution_count": 189,
   "metadata": {},
   "outputs": [],
   "source": [
    "df_new[\"content_processed\"] = df_new[\"content\"].apply(process_content)"
   ]
  },
  {
   "cell_type": "code",
   "execution_count": 190,
   "metadata": {},
   "outputs": [
    {
     "data": {
      "text/html": [
       "<div>\n",
       "<style scoped>\n",
       "    .dataframe tbody tr th:only-of-type {\n",
       "        vertical-align: middle;\n",
       "    }\n",
       "\n",
       "    .dataframe tbody tr th {\n",
       "        vertical-align: top;\n",
       "    }\n",
       "\n",
       "    .dataframe thead th {\n",
       "        text-align: right;\n",
       "    }\n",
       "</style>\n",
       "<table border=\"1\" class=\"dataframe\">\n",
       "  <thead>\n",
       "    <tr style=\"text-align: right;\">\n",
       "      <th></th>\n",
       "      <th>content</th>\n",
       "      <th>score</th>\n",
       "      <th>content_clean</th>\n",
       "      <th>content_processed</th>\n",
       "    </tr>\n",
       "  </thead>\n",
       "  <tbody>\n",
       "    <tr>\n",
       "      <th>0</th>\n",
       "      <td>Doesn't work half the time</td>\n",
       "      <td>1</td>\n",
       "      <td>does not work half the time</td>\n",
       "      <td>[not, work, half, time]</td>\n",
       "    </tr>\n",
       "    <tr>\n",
       "      <th>1</th>\n",
       "      <td>couldnt even load</td>\n",
       "      <td>1</td>\n",
       "      <td>could not even load</td>\n",
       "      <td>[could, not, even, load]</td>\n",
       "    </tr>\n",
       "    <tr>\n",
       "      <th>2</th>\n",
       "      <td>The App keeps failing and said it had other ap...</td>\n",
       "      <td>1</td>\n",
       "      <td>the app keeps failing and said it had other ap...</td>\n",
       "      <td>[app, keep, failing, said, apps, running, sing...</td>\n",
       "    </tr>\n",
       "    <tr>\n",
       "      <th>3</th>\n",
       "      <td>Took.a long time to.download</td>\n",
       "      <td>1</td>\n",
       "      <td>took.a long time to.download</td>\n",
       "      <td>[long, time]</td>\n",
       "    </tr>\n",
       "    <tr>\n",
       "      <th>4</th>\n",
       "      <td>Entered otp then failed</td>\n",
       "      <td>1</td>\n",
       "      <td>entered otp then failed</td>\n",
       "      <td>[entered, otp, failed]</td>\n",
       "    </tr>\n",
       "    <tr>\n",
       "      <th>...</th>\n",
       "      <td>...</td>\n",
       "      <td>...</td>\n",
       "      <td>...</td>\n",
       "      <td>...</td>\n",
       "    </tr>\n",
       "    <tr>\n",
       "      <th>1515</th>\n",
       "      <td>Very useful and convenient!</td>\n",
       "      <td>5</td>\n",
       "      <td>very useful and convenient!</td>\n",
       "      <td>[useful, convenient]</td>\n",
       "    </tr>\n",
       "    <tr>\n",
       "      <th>1516</th>\n",
       "      <td>Not too bad</td>\n",
       "      <td>5</td>\n",
       "      <td>not too bad</td>\n",
       "      <td>[not, bad]</td>\n",
       "    </tr>\n",
       "    <tr>\n",
       "      <th>1517</th>\n",
       "      <td>easier to log in.</td>\n",
       "      <td>5</td>\n",
       "      <td>easier to log in.</td>\n",
       "      <td>[easier, log]</td>\n",
       "    </tr>\n",
       "    <tr>\n",
       "      <th>1518</th>\n",
       "      <td>Simple yet effective</td>\n",
       "      <td>5</td>\n",
       "      <td>simple yet effective</td>\n",
       "      <td>[simple, yet, effective]</td>\n",
       "    </tr>\n",
       "    <tr>\n",
       "      <th>1519</th>\n",
       "      <td>Great app to use! Thanks</td>\n",
       "      <td>5</td>\n",
       "      <td>great app to use! thanks</td>\n",
       "      <td>[great, app, use, thanks]</td>\n",
       "    </tr>\n",
       "  </tbody>\n",
       "</table>\n",
       "<p>1520 rows × 4 columns</p>\n",
       "</div>"
      ],
      "text/plain": [
       "                                                content  score  \\\n",
       "0                            Doesn't work half the time      1   \n",
       "1                                     couldnt even load      1   \n",
       "2     The App keeps failing and said it had other ap...      1   \n",
       "3                          Took.a long time to.download      1   \n",
       "4                               Entered otp then failed      1   \n",
       "...                                                 ...    ...   \n",
       "1515                        Very useful and convenient!      5   \n",
       "1516                                        Not too bad      5   \n",
       "1517                                  easier to log in.      5   \n",
       "1518                               Simple yet effective      5   \n",
       "1519                           Great app to use! Thanks      5   \n",
       "\n",
       "                                          content_clean  \\\n",
       "0                           does not work half the time   \n",
       "1                                   could not even load   \n",
       "2     the app keeps failing and said it had other ap...   \n",
       "3                          took.a long time to.download   \n",
       "4                               entered otp then failed   \n",
       "...                                                 ...   \n",
       "1515                        very useful and convenient!   \n",
       "1516                                        not too bad   \n",
       "1517                                  easier to log in.   \n",
       "1518                               simple yet effective   \n",
       "1519                           great app to use! thanks   \n",
       "\n",
       "                                      content_processed  \n",
       "0                               [not, work, half, time]  \n",
       "1                              [could, not, even, load]  \n",
       "2     [app, keep, failing, said, apps, running, sing...  \n",
       "3                                          [long, time]  \n",
       "4                                [entered, otp, failed]  \n",
       "...                                                 ...  \n",
       "1515                               [useful, convenient]  \n",
       "1516                                         [not, bad]  \n",
       "1517                                      [easier, log]  \n",
       "1518                           [simple, yet, effective]  \n",
       "1519                          [great, app, use, thanks]  \n",
       "\n",
       "[1520 rows x 4 columns]"
      ]
     },
     "execution_count": 190,
     "metadata": {},
     "output_type": "execute_result"
    }
   ],
   "source": [
    "df_new"
   ]
  },
  {
   "cell_type": "code",
   "execution_count": 191,
   "metadata": {},
   "outputs": [],
   "source": [
    "#cleaning data"
   ]
  },
  {
   "cell_type": "code",
   "execution_count": 192,
   "metadata": {},
   "outputs": [],
   "source": [
    "from sklearn.preprocessing import OrdinalEncoder\n",
    "# This is the actual answer:\n",
    "oe = OrdinalEncoder(categories=[['1', '2', '3', ' 4', '5']])\n",
    "arr = df_new['score'].values\n",
    "arr1 = arr.reshape(-1,1)\n",
    "\n",
    "df_new['score_encoded'] = oe.fit_transform(arr1)"
   ]
  },
  {
   "cell_type": "code",
   "execution_count": 193,
   "metadata": {},
   "outputs": [
    {
     "data": {
      "text/html": [
       "<div>\n",
       "<style scoped>\n",
       "    .dataframe tbody tr th:only-of-type {\n",
       "        vertical-align: middle;\n",
       "    }\n",
       "\n",
       "    .dataframe tbody tr th {\n",
       "        vertical-align: top;\n",
       "    }\n",
       "\n",
       "    .dataframe thead th {\n",
       "        text-align: right;\n",
       "    }\n",
       "</style>\n",
       "<table border=\"1\" class=\"dataframe\">\n",
       "  <thead>\n",
       "    <tr style=\"text-align: right;\">\n",
       "      <th></th>\n",
       "      <th>content</th>\n",
       "      <th>score</th>\n",
       "      <th>content_clean</th>\n",
       "      <th>content_processed</th>\n",
       "      <th>score_encoded</th>\n",
       "    </tr>\n",
       "  </thead>\n",
       "  <tbody>\n",
       "    <tr>\n",
       "      <th>0</th>\n",
       "      <td>Doesn't work half the time</td>\n",
       "      <td>1</td>\n",
       "      <td>does not work half the time</td>\n",
       "      <td>[not, work, half, time]</td>\n",
       "      <td>0.0</td>\n",
       "    </tr>\n",
       "    <tr>\n",
       "      <th>1</th>\n",
       "      <td>couldnt even load</td>\n",
       "      <td>1</td>\n",
       "      <td>could not even load</td>\n",
       "      <td>[could, not, even, load]</td>\n",
       "      <td>0.0</td>\n",
       "    </tr>\n",
       "    <tr>\n",
       "      <th>2</th>\n",
       "      <td>The App keeps failing and said it had other ap...</td>\n",
       "      <td>1</td>\n",
       "      <td>the app keeps failing and said it had other ap...</td>\n",
       "      <td>[app, keep, failing, said, apps, running, sing...</td>\n",
       "      <td>0.0</td>\n",
       "    </tr>\n",
       "    <tr>\n",
       "      <th>3</th>\n",
       "      <td>Took.a long time to.download</td>\n",
       "      <td>1</td>\n",
       "      <td>took.a long time to.download</td>\n",
       "      <td>[long, time]</td>\n",
       "      <td>0.0</td>\n",
       "    </tr>\n",
       "    <tr>\n",
       "      <th>4</th>\n",
       "      <td>Entered otp then failed</td>\n",
       "      <td>1</td>\n",
       "      <td>entered otp then failed</td>\n",
       "      <td>[entered, otp, failed]</td>\n",
       "      <td>0.0</td>\n",
       "    </tr>\n",
       "    <tr>\n",
       "      <th>...</th>\n",
       "      <td>...</td>\n",
       "      <td>...</td>\n",
       "      <td>...</td>\n",
       "      <td>...</td>\n",
       "      <td>...</td>\n",
       "    </tr>\n",
       "    <tr>\n",
       "      <th>1515</th>\n",
       "      <td>Very useful and convenient!</td>\n",
       "      <td>5</td>\n",
       "      <td>very useful and convenient!</td>\n",
       "      <td>[useful, convenient]</td>\n",
       "      <td>4.0</td>\n",
       "    </tr>\n",
       "    <tr>\n",
       "      <th>1516</th>\n",
       "      <td>Not too bad</td>\n",
       "      <td>5</td>\n",
       "      <td>not too bad</td>\n",
       "      <td>[not, bad]</td>\n",
       "      <td>4.0</td>\n",
       "    </tr>\n",
       "    <tr>\n",
       "      <th>1517</th>\n",
       "      <td>easier to log in.</td>\n",
       "      <td>5</td>\n",
       "      <td>easier to log in.</td>\n",
       "      <td>[easier, log]</td>\n",
       "      <td>4.0</td>\n",
       "    </tr>\n",
       "    <tr>\n",
       "      <th>1518</th>\n",
       "      <td>Simple yet effective</td>\n",
       "      <td>5</td>\n",
       "      <td>simple yet effective</td>\n",
       "      <td>[simple, yet, effective]</td>\n",
       "      <td>4.0</td>\n",
       "    </tr>\n",
       "    <tr>\n",
       "      <th>1519</th>\n",
       "      <td>Great app to use! Thanks</td>\n",
       "      <td>5</td>\n",
       "      <td>great app to use! thanks</td>\n",
       "      <td>[great, app, use, thanks]</td>\n",
       "      <td>4.0</td>\n",
       "    </tr>\n",
       "  </tbody>\n",
       "</table>\n",
       "<p>1520 rows × 5 columns</p>\n",
       "</div>"
      ],
      "text/plain": [
       "                                                content  score  \\\n",
       "0                            Doesn't work half the time      1   \n",
       "1                                     couldnt even load      1   \n",
       "2     The App keeps failing and said it had other ap...      1   \n",
       "3                          Took.a long time to.download      1   \n",
       "4                               Entered otp then failed      1   \n",
       "...                                                 ...    ...   \n",
       "1515                        Very useful and convenient!      5   \n",
       "1516                                        Not too bad      5   \n",
       "1517                                  easier to log in.      5   \n",
       "1518                               Simple yet effective      5   \n",
       "1519                           Great app to use! Thanks      5   \n",
       "\n",
       "                                          content_clean  \\\n",
       "0                           does not work half the time   \n",
       "1                                   could not even load   \n",
       "2     the app keeps failing and said it had other ap...   \n",
       "3                          took.a long time to.download   \n",
       "4                               entered otp then failed   \n",
       "...                                                 ...   \n",
       "1515                        very useful and convenient!   \n",
       "1516                                        not too bad   \n",
       "1517                                  easier to log in.   \n",
       "1518                               simple yet effective   \n",
       "1519                           great app to use! thanks   \n",
       "\n",
       "                                      content_processed  score_encoded  \n",
       "0                               [not, work, half, time]            0.0  \n",
       "1                              [could, not, even, load]            0.0  \n",
       "2     [app, keep, failing, said, apps, running, sing...            0.0  \n",
       "3                                          [long, time]            0.0  \n",
       "4                                [entered, otp, failed]            0.0  \n",
       "...                                                 ...            ...  \n",
       "1515                               [useful, convenient]            4.0  \n",
       "1516                                         [not, bad]            4.0  \n",
       "1517                                      [easier, log]            4.0  \n",
       "1518                           [simple, yet, effective]            4.0  \n",
       "1519                          [great, app, use, thanks]            4.0  \n",
       "\n",
       "[1520 rows x 5 columns]"
      ]
     },
     "execution_count": 193,
     "metadata": {},
     "output_type": "execute_result"
    }
   ],
   "source": [
    "df_new"
   ]
  },
  {
   "cell_type": "code",
   "execution_count": 194,
   "metadata": {},
   "outputs": [],
   "source": [
    "X = df_new['content_clean'].tolist()\n",
    "y = df_new['score_encoded'].tolist()"
   ]
  },
  {
   "cell_type": "code",
   "execution_count": 195,
   "metadata": {},
   "outputs": [
    {
     "name": "stdout",
     "output_type": "stream",
     "text": [
      "Shape of label tensor: (1520, 5)\n"
     ]
    }
   ],
   "source": [
    "Y = pd.get_dummies(df_new['score_encoded']).values\n",
    "print('Shape of label tensor:', Y.shape)"
   ]
  },
  {
   "cell_type": "code",
   "execution_count": 196,
   "metadata": {},
   "outputs": [
    {
     "name": "stdout",
     "output_type": "stream",
     "text": [
      "cannot open app\n",
      "0.0\n",
      "[1 0 0 0 0]\n"
     ]
    }
   ],
   "source": [
    "print(X[10])\n",
    "print(y[10])\n",
    "print(Y[10])"
   ]
  },
  {
   "cell_type": "code",
   "execution_count": 197,
   "metadata": {},
   "outputs": [],
   "source": [
    "from wordcloud import WordCloud\n",
    "import matplotlib.pyplot as plt"
   ]
  },
  {
   "cell_type": "code",
   "execution_count": 198,
   "metadata": {},
   "outputs": [
    {
     "data": {
      "image/png": "[encoded data removed]",
      "text/plain": [
       "<Figure size 432x288 with 1 Axes>"
      ]
     },
     "metadata": {
      "needs_background": "light"
     },
     "output_type": "display_data"
    }
   ],
   "source": [
    "score5_words  = df_new[df_new['score']==5]\n",
    "txt = \" \".join(content for content in score5_words['content_processed'].astype(str))\n",
    "wordcloud = WordCloud().generate(txt)\n",
    "plt.imshow(wordcloud, interpolation=\"bilinear\")\n",
    "plt.axis(\"off\")\n",
    "plt.show()"
   ]
  },
  {
   "cell_type": "code",
   "execution_count": 199,
   "metadata": {},
   "outputs": [
    {
     "data": {
      "image/png": "[encoded data removed]",
      "text/plain": [
       "<Figure size 432x288 with 1 Axes>"
      ]
     },
     "metadata": {
      "needs_background": "light"
     },
     "output_type": "display_data"
    }
   ],
   "source": [
    "score1_words  = df_new[df_new['score']==1]\n",
    "txt = \" \".join(content for content in score1_words['content_processed'].astype(str))\n",
    "wordcloud = WordCloud().generate(txt)\n",
    "plt.imshow(wordcloud, interpolation=\"bilinear\")\n",
    "plt.axis(\"off\")\n",
    "plt.show()"
   ]
  },
  {
   "cell_type": "markdown",
   "metadata": {},
   "source": [
    "# #spliting the training and testing data"
   ]
  },
  {
   "cell_type": "code",
   "execution_count": 200,
   "metadata": {},
   "outputs": [],
   "source": [
    "# Split the X & y into train and test sets\n",
    "from sklearn.model_selection import train_test_split\n",
    "X_train, X_test, y_train, y_test = train_test_split(X, Y, test_size=0.2)"
   ]
  },
  {
   "cell_type": "code",
   "execution_count": 201,
   "metadata": {},
   "outputs": [],
   "source": [
    "##define the parameters for the tokenizing and padding\n",
    "vocab_size = 10000\n",
    "embedding_dim = 50\n",
    "max_length = 100\n",
    "trunc_type='pre'\n",
    "oov_tok = \"<OOV>\""
   ]
  },
  {
   "cell_type": "code",
   "execution_count": 202,
   "metadata": {},
   "outputs": [],
   "source": [
    "from tensorflow.keras.preprocessing.text import Tokenizer\n",
    "from tensorflow.keras.preprocessing.sequence import pad_sequences"
   ]
  },
  {
   "cell_type": "code",
   "execution_count": 203,
   "metadata": {},
   "outputs": [],
   "source": [
    "tokenizer = Tokenizer(num_words = vocab_size, oov_token=oov_tok)\n",
    "tokenizer.fit_on_texts(X)\n",
    "word_index = tokenizer.word_index"
   ]
  },
  {
   "cell_type": "code",
   "execution_count": 204,
   "metadata": {},
   "outputs": [],
   "source": [
    "train_seqs = tokenizer.texts_to_sequences(X_train)\n",
    "train_padded = pad_sequences(train_seqs,maxlen=max_length, truncating=trunc_type)"
   ]
  },
  {
   "cell_type": "code",
   "execution_count": 205,
   "metadata": {},
   "outputs": [],
   "source": [
    "test_seqs = tokenizer.texts_to_sequences(X_test)\n",
    "test_padded = pad_sequences(test_seqs,maxlen=max_length, truncating=trunc_type)"
   ]
  },
  {
   "cell_type": "code",
   "execution_count": 206,
   "metadata": {},
   "outputs": [
    {
     "name": "stdout",
     "output_type": "stream",
     "text": [
      "failed to register countless times. reboot device, cleared cache but still failed midway thru.\n",
      "[   0    0    0    0    0    0    0    0    0    0    0    0    0    0\n",
      "    0    0    0    0    0    0    0    0    0    0    0    0    0    0\n",
      "    0    0    0    0    0    0    0    0    0    0    0    0    0    0\n",
      "    0    0    0    0    0    0    0    0    0    0    0    0    0    0\n",
      "    0    0    0    0    0    0    0    0    0    0    0    0    0    0\n",
      "    0    0    0    0    0    0    0    0    0    0    0    0    0    0\n",
      "    0    0  276    2  175 1065  111 1480  141  853  727   23   72  276\n",
      " 1481  865]\n",
      "? ? ? ? ? ? ? ? ? ? ? ? ? ? ? ? ? ? ? ? ? ? ? ? ? ? ? ? ? ? ? ? ? ? ? ? ? ? ? ? ? ? ? ? ? ? ? ? ? ? ? ? ? ? ? ? ? ? ? ? ? ? ? ? ? ? ? ? ? ? ? ? ? ? ? ? ? ? ? ? ? ? ? ? ? ? failed to register countless times reboot device cleared cache but still failed midway thru\n",
      "[1 0 0 0 0]\n"
     ]
    }
   ],
   "source": [
    "reverse_word_index = dict([(value, key) for (key, value) in word_index.items()])\n",
    "\n",
    "def decode_review(text):\n",
    "    return ' '.join([reverse_word_index.get(i, '?') for i in text])\n",
    "\n",
    "print(X_train[1])\n",
    "print(train_padded[1])\n",
    "print(decode_review(train_padded[1]))\n",
    "print(y_train[1])"
   ]
  },
  {
   "cell_type": "code",
   "execution_count": 207,
   "metadata": {},
   "outputs": [],
   "source": [
    "train_labels = []\n",
    "test_labels = []"
   ]
  },
  {
   "cell_type": "code",
   "execution_count": 208,
   "metadata": {},
   "outputs": [],
   "source": [
    "train_labels = np.array(y_train)\n",
    "test_labels = np.array(y_test)"
   ]
  },
  {
   "cell_type": "code",
   "execution_count": 209,
   "metadata": {},
   "outputs": [],
   "source": [
    "train_padded = np.array(train_padded)\n",
    "test_padded = np.array(test_padded)"
   ]
  },
  {
   "cell_type": "code",
   "execution_count": 210,
   "metadata": {},
   "outputs": [
    {
     "name": "stdout",
     "output_type": "stream",
     "text": [
      "1216\n",
      "304\n"
     ]
    }
   ],
   "source": [
    "print(len(train_padded))\n",
    "print(len(test_padded))"
   ]
  },
  {
   "cell_type": "code",
   "execution_count": 211,
   "metadata": {},
   "outputs": [
    {
     "data": {
      "text/plain": [
       "(1216, 100)"
      ]
     },
     "execution_count": 211,
     "metadata": {},
     "output_type": "execute_result"
    }
   ],
   "source": [
    "train_padded.shape"
   ]
  },
  {
   "cell_type": "code",
   "execution_count": 212,
   "metadata": {},
   "outputs": [
    {
     "data": {
      "text/plain": [
       "(1216, 5)"
      ]
     },
     "execution_count": 212,
     "metadata": {},
     "output_type": "execute_result"
    }
   ],
   "source": [
    "train_labels.shape"
   ]
  },
  {
   "cell_type": "code",
   "execution_count": 213,
   "metadata": {},
   "outputs": [],
   "source": [
    "#using pre traing model\n",
    "from tensorflow.keras.models import Sequential\n",
    "from tensorflow.keras.layers import Flatten, Dense\n",
    "from tensorflow.keras.layers import Embedding, LSTM, SpatialDropout1D, SimpleRNN"
   ]
  },
  {
   "cell_type": "code",
   "execution_count": 214,
   "metadata": {},
   "outputs": [
    {
     "name": "stdout",
     "output_type": "stream",
     "text": [
      "Found 400001 word vectors.\n"
     ]
    }
   ],
   "source": [
    "import os\n",
    "\n",
    "glove_dir = r'C:\\Users\\Gayle\\OneDrive\\Documents\\NP Data Analytics\\Deep Learning\\Week 11\\Practical 6.html\\Apr 2022\\Week 11'\n",
    "\n",
    "embeddings_index = {}\n",
    "f = open(os.path.join(glove_dir, 'glove.6B.50d.txt'), encoding=\"utf8\")\n",
    "for line in f:\n",
    "    values = line.split()\n",
    "    word = values[0]\n",
    "    coefs = np.asarray(values[1:], dtype='float32')\n",
    "    embeddings_index[word] = coefs\n",
    "f.close()\n",
    "\n",
    "print('Found %s word vectors.' % len(embeddings_index))"
   ]
  },
  {
   "cell_type": "code",
   "execution_count": 215,
   "metadata": {},
   "outputs": [],
   "source": [
    "#embedding_dim = 64\n",
    "\n",
    "embedding_matrix = np.zeros((vocab_size, embedding_dim))\n",
    "for word, i in word_index.items():\n",
    "    embedding_vector = embeddings_index.get(word)\n",
    "    if i < vocab_size:\n",
    "        if embedding_vector is not None:\n",
    "            # Words not found in embedding index will be all-zeros.\n",
    "            embedding_matrix[i] = embedding_vector"
   ]
  },
  {
   "cell_type": "code",
   "execution_count": 216,
   "metadata": {},
   "outputs": [
    {
     "name": "stdout",
     "output_type": "stream",
     "text": [
      "[[ 0.          0.          0.         ...  0.          0.\n",
      "   0.        ]\n",
      " [ 0.          0.          0.         ...  0.          0.\n",
      "   0.        ]\n",
      " [ 0.68046999 -0.039263    0.30186    ... -0.073297   -0.064699\n",
      "  -0.26043999]\n",
      " ...\n",
      " [ 0.          0.          0.         ...  0.          0.\n",
      "   0.        ]\n",
      " [ 0.          0.          0.         ...  0.          0.\n",
      "   0.        ]\n",
      " [ 0.          0.          0.         ...  0.          0.\n",
      "   0.        ]]\n",
      "10000\n",
      "50\n"
     ]
    }
   ],
   "source": [
    "print(embedding_matrix)\n",
    "print(len(embedding_matrix))\n",
    "print(len(embedding_matrix[0]))"
   ]
  },
  {
   "cell_type": "code",
   "execution_count": 217,
   "metadata": {},
   "outputs": [
    {
     "name": "stdout",
     "output_type": "stream",
     "text": [
      "Model: \"sequential_6\"\n",
      "_________________________________________________________________\n",
      " Layer (type)                Output Shape              Param #   \n",
      "=================================================================\n",
      " embedding_6 (Embedding)     (None, 100, 50)           500000    \n",
      "                                                                 \n",
      " lstm_6 (LSTM)               (None, 100, 32)           10624     \n",
      "                                                                 \n",
      " lstm_7 (LSTM)               (None, 32)                8320      \n",
      "                                                                 \n",
      " dense_7 (Dense)             (None, 5)                 165       \n",
      "                                                                 \n",
      "=================================================================\n",
      "Total params: 519,109\n",
      "Trainable params: 519,109\n",
      "Non-trainable params: 0\n",
      "_________________________________________________________________\n"
     ]
    }
   ],
   "source": [
    "from tensorflow.keras.layers import LSTM\n",
    "\n",
    "model3 = Sequential()\n",
    "model3.add(Embedding(vocab_size, embedding_dim, input_length=max_length))\n",
    "model3.add(LSTM(32, return_sequences=True))\n",
    "model3.add(LSTM(32))\n",
    "model3.add(Dense(5, activation='softmax'))\n",
    "\n",
    "model3.summary()"
   ]
  },
  {
   "cell_type": "code",
   "execution_count": 218,
   "metadata": {},
   "outputs": [],
   "source": [
    "model3.layers[0].set_weights([embedding_matrix])\n",
    "model3.layers[0].trainable = False"
   ]
  },
  {
   "cell_type": "code",
   "execution_count": 219,
   "metadata": {},
   "outputs": [],
   "source": [
    "\n",
    "model3.compile(optimizer='rmsprop', loss='categorical_crossentropy', metrics=['acc'])"
   ]
  },
  {
   "cell_type": "code",
   "execution_count": 220,
   "metadata": {},
   "outputs": [
    {
     "name": "stdout",
     "output_type": "stream",
     "text": [
      "Epoch 1/20\n",
      "31/31 [==============================] - 5s 82ms/step - loss: 1.5333 - acc: 0.2891 - val_loss: 1.4859 - val_acc: 0.3361\n",
      "Epoch 2/20\n",
      "31/31 [==============================] - 2s 64ms/step - loss: 1.4431 - acc: 0.3323 - val_loss: 1.4764 - val_acc: 0.3033\n",
      "Epoch 3/20\n",
      "31/31 [==============================] - 2s 62ms/step - loss: 1.3966 - acc: 0.3621 - val_loss: 1.4157 - val_acc: 0.3402\n",
      "Epoch 4/20\n",
      "31/31 [==============================] - 2s 66ms/step - loss: 1.3582 - acc: 0.3817 - val_loss: 1.4193 - val_acc: 0.3689\n",
      "Epoch 5/20\n",
      "31/31 [==============================] - 2s 65ms/step - loss: 1.3406 - acc: 0.3817 - val_loss: 1.4431 - val_acc: 0.3402\n",
      "Epoch 6/20\n",
      "31/31 [==============================] - 2s 75ms/step - loss: 1.3208 - acc: 0.4187 - val_loss: 1.3895 - val_acc: 0.3607\n",
      "Epoch 7/20\n",
      "31/31 [==============================] - 2s 71ms/step - loss: 1.2968 - acc: 0.4033 - val_loss: 1.3691 - val_acc: 0.3320\n",
      "Epoch 8/20\n",
      "31/31 [==============================] - 2s 69ms/step - loss: 1.2814 - acc: 0.4115 - val_loss: 1.4073 - val_acc: 0.3197\n",
      "Epoch 9/20\n",
      "31/31 [==============================] - 2s 65ms/step - loss: 1.2630 - acc: 0.4311 - val_loss: 1.3963 - val_acc: 0.3811\n",
      "Epoch 10/20\n",
      "31/31 [==============================] - 2s 70ms/step - loss: 1.2575 - acc: 0.4352 - val_loss: 1.3780 - val_acc: 0.3361\n",
      "Epoch 11/20\n",
      "31/31 [==============================] - 2s 70ms/step - loss: 1.2261 - acc: 0.4527 - val_loss: 1.3951 - val_acc: 0.3730\n",
      "Epoch 12/20\n",
      "31/31 [==============================] - 2s 64ms/step - loss: 1.2135 - acc: 0.4558 - val_loss: 1.3875 - val_acc: 0.3648\n",
      "Epoch 13/20\n",
      "31/31 [==============================] - 2s 62ms/step - loss: 1.1823 - acc: 0.4702 - val_loss: 1.5827 - val_acc: 0.3648\n",
      "Epoch 14/20\n",
      "31/31 [==============================] - 2s 60ms/step - loss: 1.1727 - acc: 0.4990 - val_loss: 1.4336 - val_acc: 0.3320\n",
      "Epoch 15/20\n",
      "31/31 [==============================] - 2s 61ms/step - loss: 1.1550 - acc: 0.4887 - val_loss: 1.4087 - val_acc: 0.3402\n",
      "Epoch 16/20\n",
      "31/31 [==============================] - 2s 67ms/step - loss: 1.1240 - acc: 0.5267 - val_loss: 1.4174 - val_acc: 0.3607\n",
      "Epoch 17/20\n",
      "31/31 [==============================] - 2s 67ms/step - loss: 1.1168 - acc: 0.5350 - val_loss: 1.5382 - val_acc: 0.3197\n",
      "Epoch 18/20\n",
      "31/31 [==============================] - 2s 60ms/step - loss: 1.1020 - acc: 0.5175 - val_loss: 1.4069 - val_acc: 0.3689\n",
      "Epoch 19/20\n",
      "31/31 [==============================] - 2s 61ms/step - loss: 1.0630 - acc: 0.5463 - val_loss: 1.5440 - val_acc: 0.3279\n",
      "Epoch 20/20\n",
      "31/31 [==============================] - 2s 68ms/step - loss: 1.0683 - acc: 0.5350 - val_loss: 1.4338 - val_acc: 0.3934\n"
     ]
    }
   ],
   "source": [
    "history = model3.fit(train_padded, train_labels,\n",
    "                    epochs=20,\n",
    "                    batch_size=32,\n",
    "                    validation_split=0.2)"
   ]
  },
  {
   "cell_type": "code",
   "execution_count": 221,
   "metadata": {},
   "outputs": [
    {
     "data": {
      "image/png": "[encoded data removed]",
      "text/plain": [
       "<Figure size 432x288 with 1 Axes>"
      ]
     },
     "metadata": {
      "needs_background": "light"
     },
     "output_type": "display_data"
    },
    {
     "data": {
      "image/png": "[encoded data removed]",
      "text/plain": [
       "<Figure size 432x288 with 1 Axes>"
      ]
     },
     "metadata": {
      "needs_background": "light"
     },
     "output_type": "display_data"
    }
   ],
   "source": [
    "%matplotlib inline\n",
    "import matplotlib.pyplot as plt\n",
    "\n",
    "acc = history.history['acc']\n",
    "val_acc = history.history['val_acc']\n",
    "loss = history.history['loss']\n",
    "val_loss = history.history['val_loss']\n",
    "\n",
    "epochs = range(1, len(acc) + 1)\n",
    "\n",
    "plt.plot(epochs, acc, 'bo', label='Training acc')\n",
    "plt.plot(epochs, val_acc, 'b', label='Validation acc')\n",
    "plt.title('Training and validation accuracy')\n",
    "plt.legend()\n",
    "\n",
    "plt.figure()\n",
    "\n",
    "plt.plot(epochs, loss, 'bo', label='Training loss')\n",
    "plt.plot(epochs, val_loss, 'b', label='Validation loss')\n",
    "plt.title('Training and validation loss')\n",
    "plt.legend()\n",
    "\n",
    "plt.show()"
   ]
  },
  {
   "cell_type": "markdown",
   "metadata": {},
   "source": [
    "### 1.3 Data Sampling"
   ]
  },
  {
   "cell_type": "markdown",
   "metadata": {},
   "source": [
    "## Step 2 – Develop a Sentiment Analysis Model"
   ]
  },
  {
   "cell_type": "code",
   "execution_count": 222,
   "metadata": {},
   "outputs": [],
   "source": [
    "# Build the Model\n"
   ]
  },
  {
   "cell_type": "code",
   "execution_count": 223,
   "metadata": {},
   "outputs": [],
   "source": [
    "#import tensorflow as tf\n",
    "from tensorflow.keras.models import Sequential\n",
    "from tensorflow.keras.layers import Flatten, Dense\n",
    "from tensorflow.keras.layers import Embedding, LSTM, SpatialDropout1D, SimpleRNN, GRU\n"
   ]
  },
  {
   "cell_type": "code",
   "execution_count": 224,
   "metadata": {},
   "outputs": [],
   "source": [
    "# Train the Model\n"
   ]
  },
  {
   "cell_type": "code",
   "execution_count": 225,
   "metadata": {},
   "outputs": [
    {
     "name": "stdout",
     "output_type": "stream",
     "text": [
      "Model: \"sequential_7\"\n",
      "_________________________________________________________________\n",
      " Layer (type)                Output Shape              Param #   \n",
      "=================================================================\n",
      " embedding_7 (Embedding)     (None, 100, 50)           500000    \n",
      "                                                                 \n",
      " simple_rnn_2 (SimpleRNN)    (None, 100, 32)           2656      \n",
      "                                                                 \n",
      " simple_rnn_3 (SimpleRNN)    (None, 32)                2080      \n",
      "                                                                 \n",
      " dense_8 (Dense)             (None, 5)                 165       \n",
      "                                                                 \n",
      "=================================================================\n",
      "Total params: 504,901\n",
      "Trainable params: 504,901\n",
      "Non-trainable params: 0\n",
      "_________________________________________________________________\n",
      "Epoch 1/10\n",
      "31/31 [==============================] - 2s 41ms/step - loss: 1.6201 - accuracy: 0.2181 - val_loss: 1.6102 - val_accuracy: 0.2623\n",
      "Epoch 2/10\n",
      "31/31 [==============================] - 1s 36ms/step - loss: 1.3056 - accuracy: 0.5237 - val_loss: 1.6271 - val_accuracy: 0.2951\n",
      "Epoch 3/10\n",
      "31/31 [==============================] - 1s 38ms/step - loss: 1.0081 - accuracy: 0.6975 - val_loss: 1.6824 - val_accuracy: 0.2828\n",
      "Epoch 4/10\n",
      "31/31 [==============================] - 1s 37ms/step - loss: 0.7418 - accuracy: 0.7932 - val_loss: 1.7215 - val_accuracy: 0.2664\n",
      "Epoch 5/10\n",
      "31/31 [==============================] - 1s 37ms/step - loss: 0.5346 - accuracy: 0.8457 - val_loss: 1.7742 - val_accuracy: 0.2705\n",
      "Epoch 6/10\n",
      "31/31 [==============================] - 1s 36ms/step - loss: 0.4059 - accuracy: 0.8848 - val_loss: 1.8088 - val_accuracy: 0.2705\n",
      "Epoch 7/10\n",
      "31/31 [==============================] - 1s 36ms/step - loss: 0.3312 - accuracy: 0.9095 - val_loss: 1.8547 - val_accuracy: 0.2705\n",
      "Epoch 8/10\n",
      "31/31 [==============================] - 1s 36ms/step - loss: 0.2628 - accuracy: 0.9249 - val_loss: 1.9042 - val_accuracy: 0.2992\n",
      "Epoch 9/10\n",
      "31/31 [==============================] - 1s 36ms/step - loss: 0.2262 - accuracy: 0.9321 - val_loss: 1.9297 - val_accuracy: 0.2869\n",
      "Epoch 10/10\n",
      "31/31 [==============================] - 1s 38ms/step - loss: 0.1994 - accuracy: 0.9414 - val_loss: 1.9102 - val_accuracy: 0.2787\n"
     ]
    }
   ],
   "source": [
    "#simple RNN model\n",
    "model = Sequential()\n",
    "model.add(Embedding(vocab_size, embedding_dim, input_length=max_length))\n",
    "#model.add(SpatialDropout1D(0.7))\n",
    "#model.add(LSTM(64, dropout=0.7, recurrent_dropout=0.7))\n",
    "model.add(SimpleRNN(32, return_sequences=True))\n",
    "model.add(SimpleRNN(32))\n",
    "model.add(Dense(5, activation = 'softmax'))\n",
    "model.compile(optimizer='adam', loss='categorical_crossentropy', metrics=['accuracy'])\n",
    "model.summary()\n",
    "\n",
    "\n",
    "history = model.fit(train_padded, train_labels,\n",
    "                    epochs=10,\n",
    "                    batch_size=32,\n",
    "                    validation_split=0.2)\n"
   ]
  },
  {
   "cell_type": "code",
   "execution_count": 226,
   "metadata": {},
   "outputs": [],
   "source": [
    "# Plot the Training and Validation Accuracy & Loss Scores\n"
   ]
  },
  {
   "cell_type": "code",
   "execution_count": 227,
   "metadata": {},
   "outputs": [
    {
     "data": {
      "image/png": "[encoded data removed]",
      "text/plain": [
       "<Figure size 432x288 with 1 Axes>"
      ]
     },
     "metadata": {
      "needs_background": "light"
     },
     "output_type": "display_data"
    },
    {
     "data": {
      "image/png": "[encoded data removed]",
      "text/plain": [
       "<Figure size 432x288 with 1 Axes>"
      ]
     },
     "metadata": {
      "needs_background": "light"
     },
     "output_type": "display_data"
    }
   ],
   "source": [
    "%matplotlib inline\n",
    "import matplotlib.pyplot as plt\n",
    "\n",
    "acc = history.history['accuracy']\n",
    "val_acc = history.history['val_accuracy']\n",
    "loss = history.history['loss']\n",
    "val_loss = history.history['val_loss']\n",
    "\n",
    "epochs = range(1, len(acc) + 1)\n",
    "\n",
    "plt.plot(epochs, acc, 'bo', label='Training acc')\n",
    "plt.plot(epochs, val_acc, 'b', label='Validation acc')\n",
    "plt.title('Training and validation accuracy')\n",
    "plt.legend()\n",
    "\n",
    "plt.figure()\n",
    "\n",
    "plt.plot(epochs, loss, 'bo', label='Training loss')\n",
    "plt.plot(epochs, val_loss, 'b', label='Validation loss')\n",
    "plt.title('Training and validation loss')\n",
    "plt.legend()\n",
    "\n",
    "plt.show()"
   ]
  },
  {
   "cell_type": "code",
   "execution_count": 228,
   "metadata": {},
   "outputs": [
    {
     "name": "stdout",
     "output_type": "stream",
     "text": [
      "Model: \"sequential_8\"\n",
      "_________________________________________________________________\n",
      " Layer (type)                Output Shape              Param #   \n",
      "=================================================================\n",
      " embedding_8 (Embedding)     (None, 100, 50)           500000    \n",
      "                                                                 \n",
      " lstm_8 (LSTM)               (None, 100, 32)           10624     \n",
      "                                                                 \n",
      " lstm_9 (LSTM)               (None, 32)                8320      \n",
      "                                                                 \n",
      " dense_9 (Dense)             (None, 5)                 165       \n",
      "                                                                 \n",
      "=================================================================\n",
      "Total params: 519,109\n",
      "Trainable params: 519,109\n",
      "Non-trainable params: 0\n",
      "_________________________________________________________________\n"
     ]
    }
   ],
   "source": [
    "#simple LSTM model #base\n",
    "#Long Short-Term Memory (LSTM) networks are a type of recurrent neural network capable \n",
    "#of learning order dependence in sequence prediction problems\n",
    "\n",
    "from tensorflow.keras.layers import LSTM\n",
    "\n",
    "model = Sequential()\n",
    "model.add(Embedding(vocab_size, embedding_dim, input_length=max_length))\n",
    "model.add(LSTM(32, return_sequences=True))\n",
    "model.add(LSTM(32))\n",
    "model.add(Dense(5, activation='softmax'))\n",
    "\n",
    "model.compile(optimizer='rmsprop', loss='categorical_crossentropy', metrics=['acc'])\n",
    "model.summary()"
   ]
  },
  {
   "cell_type": "code",
   "execution_count": 229,
   "metadata": {},
   "outputs": [
    {
     "name": "stdout",
     "output_type": "stream",
     "text": [
      "Epoch 1/10\n",
      "31/31 [==============================] - 5s 83ms/step - loss: 1.5948 - acc: 0.2531 - val_loss: 1.5705 - val_acc: 0.2664\n",
      "Epoch 2/10\n",
      "31/31 [==============================] - 2s 68ms/step - loss: 1.5401 - acc: 0.2840 - val_loss: 1.5305 - val_acc: 0.2992\n",
      "Epoch 3/10\n",
      "31/31 [==============================] - 2s 69ms/step - loss: 1.4744 - acc: 0.3148 - val_loss: 1.4799 - val_acc: 0.3361\n",
      "Epoch 4/10\n",
      "31/31 [==============================] - 2s 65ms/step - loss: 1.3733 - acc: 0.4136 - val_loss: 1.4251 - val_acc: 0.3484\n",
      "Epoch 5/10\n",
      "31/31 [==============================] - 2s 67ms/step - loss: 1.2604 - acc: 0.4660 - val_loss: 1.4389 - val_acc: 0.3074\n",
      "Epoch 6/10\n",
      "31/31 [==============================] - 2s 68ms/step - loss: 1.1518 - acc: 0.5340 - val_loss: 1.4448 - val_acc: 0.3197\n",
      "Epoch 7/10\n",
      "31/31 [==============================] - 2s 78ms/step - loss: 1.0391 - acc: 0.5730 - val_loss: 1.4832 - val_acc: 0.3525\n",
      "Epoch 8/10\n",
      "31/31 [==============================] - 2s 72ms/step - loss: 0.9571 - acc: 0.6029 - val_loss: 1.5250 - val_acc: 0.3279\n",
      "Epoch 9/10\n",
      "31/31 [==============================] - 2s 73ms/step - loss: 0.8666 - acc: 0.6543 - val_loss: 1.5513 - val_acc: 0.3443\n",
      "Epoch 10/10\n",
      "31/31 [==============================] - 2s 73ms/step - loss: 0.7784 - acc: 0.7027 - val_loss: 1.5647 - val_acc: 0.3238\n"
     ]
    }
   ],
   "source": [
    "history = model.fit(train_padded, train_labels,\n",
    "                    epochs=10,\n",
    "                    batch_size=32,\n",
    "                    validation_split=0.2)\n"
   ]
  },
  {
   "cell_type": "code",
   "execution_count": 230,
   "metadata": {},
   "outputs": [
    {
     "data": {
      "image/png": "[encoded data removed]",
      "text/plain": [
       "<Figure size 432x288 with 1 Axes>"
      ]
     },
     "metadata": {
      "needs_background": "light"
     },
     "output_type": "display_data"
    },
    {
     "data": {
      "image/png": "[encoded data removed]",
      "text/plain": [
       "<Figure size 432x288 with 1 Axes>"
      ]
     },
     "metadata": {
      "needs_background": "light"
     },
     "output_type": "display_data"
    }
   ],
   "source": [
    "%matplotlib inline\n",
    "import matplotlib.pyplot as plt\n",
    "\n",
    "acc = history.history['acc']\n",
    "val_acc = history.history['val_acc']\n",
    "loss = history.history['loss']\n",
    "val_loss = history.history['val_loss']\n",
    "\n",
    "epochs = range(1, len(acc) + 1)\n",
    "\n",
    "plt.plot(epochs, acc, 'bo', label='Training acc')\n",
    "plt.plot(epochs, val_acc, 'b', label='Validation acc')\n",
    "plt.title('Training and validation accuracy')\n",
    "plt.legend()\n",
    "\n",
    "plt.figure()\n",
    "\n",
    "plt.plot(epochs, loss, 'bo', label='Training loss')\n",
    "plt.plot(epochs, val_loss, 'b', label='Validation loss')\n",
    "plt.title('Training and validation loss')\n",
    "plt.legend()\n",
    "\n",
    "plt.show()"
   ]
  },
  {
   "cell_type": "code",
   "execution_count": 231,
   "metadata": {},
   "outputs": [
    {
     "name": "stdout",
     "output_type": "stream",
     "text": [
      "Model: \"sequential_9\"\n",
      "_________________________________________________________________\n",
      " Layer (type)                Output Shape              Param #   \n",
      "=================================================================\n",
      " embedding_9 (Embedding)     (None, 100, 50)           500000    \n",
      "                                                                 \n",
      " lstm_10 (LSTM)              (None, 100, 32)           10624     \n",
      "                                                                 \n",
      " spatial_dropout1d_1 (Spatia  (None, 100, 32)          0         \n",
      " lDropout1D)                                                     \n",
      "                                                                 \n",
      " dense_10 (Dense)            (None, 100, 16)           528       \n",
      "                                                                 \n",
      " lstm_11 (LSTM)              (None, 32)                6272      \n",
      "                                                                 \n",
      " dense_11 (Dense)            (None, 5)                 165       \n",
      "                                                                 \n",
      "=================================================================\n",
      "Total params: 517,589\n",
      "Trainable params: 517,589\n",
      "Non-trainable params: 0\n",
      "_________________________________________________________________\n"
     ]
    }
   ],
   "source": [
    "model = Sequential()\n",
    "model.add(Embedding(vocab_size, embedding_dim, input_length=max_length))\n",
    "model.add(LSTM(32, return_sequences=True))\n",
    "model.add(SpatialDropout1D(0.7))\n",
    "model.add(Dense(16, activation='relu'))\n",
    "model.add(LSTM(32, dropout=0.5, recurrent_dropout=0.5))\n",
    "model.add(Dense(5, activation='softmax'))\n",
    "\n",
    "model.compile(optimizer='rmsprop', loss='categorical_crossentropy', metrics=['acc'])\n",
    "model.summary()"
   ]
  },
  {
   "cell_type": "code",
   "execution_count": 232,
   "metadata": {},
   "outputs": [
    {
     "name": "stdout",
     "output_type": "stream",
     "text": [
      "Epoch 1/15\n",
      "31/31 [==============================] - 10s 156ms/step - loss: 1.6009 - acc: 0.2377 - val_loss: 1.5718 - val_acc: 0.2705\n",
      "Epoch 2/15\n",
      "31/31 [==============================] - 4s 130ms/step - loss: 1.5697 - acc: 0.2819 - val_loss: 1.5399 - val_acc: 0.2746\n",
      "Epoch 3/15\n",
      "31/31 [==============================] - 4s 128ms/step - loss: 1.5128 - acc: 0.2994 - val_loss: 1.5273 - val_acc: 0.3033\n",
      "Epoch 4/15\n",
      "31/31 [==============================] - 4s 132ms/step - loss: 1.4677 - acc: 0.3210 - val_loss: 1.4491 - val_acc: 0.3156\n",
      "Epoch 5/15\n",
      "31/31 [==============================] - 4s 131ms/step - loss: 1.3708 - acc: 0.3611 - val_loss: 1.5015 - val_acc: 0.3279\n",
      "Epoch 6/15\n",
      "31/31 [==============================] - 4s 126ms/step - loss: 1.2993 - acc: 0.3755 - val_loss: 1.3807 - val_acc: 0.3033\n",
      "Epoch 7/15\n",
      "31/31 [==============================] - 4s 129ms/step - loss: 1.2335 - acc: 0.4043 - val_loss: 1.3859 - val_acc: 0.3197\n",
      "Epoch 8/15\n",
      "31/31 [==============================] - 4s 119ms/step - loss: 1.1759 - acc: 0.4208 - val_loss: 1.4322 - val_acc: 0.3033\n",
      "Epoch 9/15\n",
      "31/31 [==============================] - 4s 119ms/step - loss: 1.1333 - acc: 0.4588 - val_loss: 1.4047 - val_acc: 0.3320\n",
      "Epoch 10/15\n",
      "31/31 [==============================] - 4s 123ms/step - loss: 1.1062 - acc: 0.4599 - val_loss: 1.4478 - val_acc: 0.3402\n",
      "Epoch 11/15\n",
      "31/31 [==============================] - 4s 129ms/step - loss: 1.0694 - acc: 0.4979 - val_loss: 1.5924 - val_acc: 0.3279\n",
      "Epoch 12/15\n",
      "31/31 [==============================] - 4s 125ms/step - loss: 1.0527 - acc: 0.5010 - val_loss: 1.5012 - val_acc: 0.3484\n",
      "Epoch 13/15\n",
      "31/31 [==============================] - 4s 120ms/step - loss: 1.0003 - acc: 0.5216 - val_loss: 1.4919 - val_acc: 0.3811\n",
      "Epoch 14/15\n",
      "31/31 [==============================] - 4s 119ms/step - loss: 0.9516 - acc: 0.5823 - val_loss: 1.5286 - val_acc: 0.3648\n",
      "Epoch 15/15\n",
      "31/31 [==============================] - 4s 126ms/step - loss: 0.9104 - acc: 0.6060 - val_loss: 1.6518 - val_acc: 0.3279\n"
     ]
    }
   ],
   "source": [
    "history = model.fit(train_padded, train_labels,\n",
    "                    epochs=15,\n",
    "                    batch_size=32,\n",
    "                    validation_split=0.2)"
   ]
  },
  {
   "cell_type": "code",
   "execution_count": 233,
   "metadata": {},
   "outputs": [
    {
     "data": {
      "image/png": "[encoded data removed]",
      "text/plain": [
       "<Figure size 432x288 with 1 Axes>"
      ]
     },
     "metadata": {
      "needs_background": "light"
     },
     "output_type": "display_data"
    },
    {
     "data": {
      "image/png": "[encoded data removed]",
      "text/plain": [
       "<Figure size 432x288 with 1 Axes>"
      ]
     },
     "metadata": {
      "needs_background": "light"
     },
     "output_type": "display_data"
    }
   ],
   "source": [
    "%matplotlib inline\n",
    "import matplotlib.pyplot as plt\n",
    "\n",
    "acc = history.history['acc']\n",
    "val_acc = history.history['val_acc']\n",
    "loss = history.history['loss']\n",
    "val_loss = history.history['val_loss']\n",
    "\n",
    "epochs = range(1, len(acc) + 1)\n",
    "\n",
    "plt.plot(epochs, acc, 'bo', label='Training acc')\n",
    "plt.plot(epochs, val_acc, 'b', label='Validation acc')\n",
    "plt.title('Training and validation accuracy')\n",
    "plt.legend()\n",
    "\n",
    "plt.figure()\n",
    "\n",
    "plt.plot(epochs, loss, 'bo', label='Training loss')\n",
    "plt.plot(epochs, val_loss, 'b', label='Validation loss')\n",
    "plt.title('Training and validation loss')\n",
    "plt.legend()\n",
    "\n",
    "plt.show()"
   ]
  },
  {
   "cell_type": "code",
   "execution_count": 234,
   "metadata": {},
   "outputs": [],
   "source": [
    "# Save the Model\n",
    "model.save('singpass_model_1_1.h5')"
   ]
  },
  {
   "cell_type": "markdown",
   "metadata": {},
   "source": [
    "### Model #1 "
   ]
  },
  {
   "cell_type": "markdown",
   "metadata": {},
   "source": [
    "### Model #2 "
   ]
  },
  {
   "cell_type": "code",
   "execution_count": 235,
   "metadata": {},
   "outputs": [
    {
     "name": "stdout",
     "output_type": "stream",
     "text": [
      "Model: \"sequential_10\"\n",
      "_________________________________________________________________\n",
      " Layer (type)                Output Shape              Param #   \n",
      "=================================================================\n",
      " embedding_10 (Embedding)    (None, 100, 50)           500000    \n",
      "                                                                 \n",
      " gru_6 (GRU)                 (None, 100, 32)           8064      \n",
      "                                                                 \n",
      " gru_7 (GRU)                 (None, 32)                6336      \n",
      "                                                                 \n",
      " dense_12 (Dense)            (None, 5)                 165       \n",
      "                                                                 \n",
      "=================================================================\n",
      "Total params: 514,565\n",
      "Trainable params: 514,565\n",
      "Non-trainable params: 0\n",
      "_________________________________________________________________\n"
     ]
    }
   ],
   "source": [
    "model2 = Sequential()\n",
    "model2.add(Embedding(vocab_size, embedding_dim, input_length=max_length))\n",
    "model2.add(GRU(32,return_sequences=True))\n",
    "model2.add(GRU(32))\n",
    "model2.add(Dense(5, activation='softmax'))\n",
    "model2.summary()\n",
    "\n",
    "model2.compile(optimizer='rmsprop', loss='categorical_crossentropy', metrics=['acc'])"
   ]
  },
  {
   "cell_type": "code",
   "execution_count": 236,
   "metadata": {},
   "outputs": [
    {
     "name": "stdout",
     "output_type": "stream",
     "text": [
      "Epoch 1/15\n",
      "31/31 [==============================] - 6s 102ms/step - loss: 1.5909 - acc: 0.2325 - val_loss: 1.5318 - val_acc: 0.2705\n",
      "Epoch 2/15\n",
      "31/31 [==============================] - 3s 84ms/step - loss: 1.4704 - acc: 0.3179 - val_loss: 1.4590 - val_acc: 0.3238\n",
      "Epoch 3/15\n",
      "31/31 [==============================] - 2s 79ms/step - loss: 1.3257 - acc: 0.3837 - val_loss: 1.3937 - val_acc: 0.3238\n",
      "Epoch 4/15\n",
      "31/31 [==============================] - 2s 80ms/step - loss: 1.2071 - acc: 0.4599 - val_loss: 1.4146 - val_acc: 0.3156\n",
      "Epoch 5/15\n",
      "31/31 [==============================] - 3s 84ms/step - loss: 1.1151 - acc: 0.5350 - val_loss: 1.3794 - val_acc: 0.3566\n",
      "Epoch 6/15\n",
      "31/31 [==============================] - 2s 80ms/step - loss: 1.0151 - acc: 0.5669 - val_loss: 1.4086 - val_acc: 0.3443\n",
      "Epoch 7/15\n",
      "31/31 [==============================] - 3s 82ms/step - loss: 0.9225 - acc: 0.6461 - val_loss: 1.4405 - val_acc: 0.3279\n",
      "Epoch 8/15\n",
      "31/31 [==============================] - 3s 82ms/step - loss: 0.8280 - acc: 0.6821 - val_loss: 1.5257 - val_acc: 0.3238\n",
      "Epoch 9/15\n",
      "31/31 [==============================] - 3s 81ms/step - loss: 0.7473 - acc: 0.7181 - val_loss: 1.5985 - val_acc: 0.3443\n",
      "Epoch 10/15\n",
      "31/31 [==============================] - 3s 82ms/step - loss: 0.6653 - acc: 0.7685 - val_loss: 1.6905 - val_acc: 0.3320\n",
      "Epoch 11/15\n",
      "31/31 [==============================] - 3s 87ms/step - loss: 0.6085 - acc: 0.7870 - val_loss: 1.8146 - val_acc: 0.3525\n",
      "Epoch 12/15\n",
      "31/31 [==============================] - 3s 81ms/step - loss: 0.5343 - acc: 0.8097 - val_loss: 1.8600 - val_acc: 0.3361\n",
      "Epoch 13/15\n",
      "31/31 [==============================] - 3s 84ms/step - loss: 0.4887 - acc: 0.8230 - val_loss: 1.9361 - val_acc: 0.3607\n",
      "Epoch 14/15\n",
      "31/31 [==============================] - 3s 82ms/step - loss: 0.4379 - acc: 0.8488 - val_loss: 2.0838 - val_acc: 0.3484\n",
      "Epoch 15/15\n",
      "31/31 [==============================] - 3s 84ms/step - loss: 0.3917 - acc: 0.8601 - val_loss: 2.1278 - val_acc: 0.3443\n"
     ]
    }
   ],
   "source": [
    "history = model2.fit(train_padded, train_labels,\n",
    "                    epochs=15,\n",
    "                    batch_size=32,\n",
    "                    validation_split=0.2)"
   ]
  },
  {
   "cell_type": "code",
   "execution_count": 237,
   "metadata": {},
   "outputs": [
    {
     "data": {
      "image/png": "[encoded data removed]",
      "text/plain": [
       "<Figure size 432x288 with 1 Axes>"
      ]
     },
     "metadata": {
      "needs_background": "light"
     },
     "output_type": "display_data"
    },
    {
     "data": {
      "image/png": "[encoded data removed]",
      "text/plain": [
       "<Figure size 432x288 with 1 Axes>"
      ]
     },
     "metadata": {
      "needs_background": "light"
     },
     "output_type": "display_data"
    }
   ],
   "source": [
    "%matplotlib inline\n",
    "import matplotlib.pyplot as plt\n",
    "\n",
    "acc = history.history['acc']\n",
    "val_acc = history.history['val_acc']\n",
    "loss = history.history['loss']\n",
    "val_loss = history.history['val_loss']\n",
    "\n",
    "epochs = range(1, len(acc) + 1)\n",
    "\n",
    "plt.plot(epochs, acc, 'bo', label='Training acc')\n",
    "plt.plot(epochs, val_acc, 'b', label='Validation acc')\n",
    "plt.title('Training and validation accuracy')\n",
    "plt.legend()\n",
    "\n",
    "plt.figure()\n",
    "\n",
    "plt.plot(epochs, loss, 'bo', label='Training loss')\n",
    "plt.plot(epochs, val_loss, 'b', label='Validation loss')\n",
    "plt.title('Training and validation loss')\n",
    "plt.legend()\n",
    "\n",
    "plt.show()"
   ]
  },
  {
   "cell_type": "code",
   "execution_count": 238,
   "metadata": {},
   "outputs": [
    {
     "name": "stdout",
     "output_type": "stream",
     "text": [
      "Model: \"sequential_11\"\n",
      "_________________________________________________________________\n",
      " Layer (type)                Output Shape              Param #   \n",
      "=================================================================\n",
      " embedding_11 (Embedding)    (None, 100, 50)           500000    \n",
      "                                                                 \n",
      " gru_8 (GRU)                 (None, 100, 32)           8064      \n",
      "                                                                 \n",
      " gru_9 (GRU)                 (None, 100, 32)           6336      \n",
      "                                                                 \n",
      " gru_10 (GRU)                (None, 100, 32)           6336      \n",
      "                                                                 \n",
      " gru_11 (GRU)                (None, 32)                6336      \n",
      "                                                                 \n",
      " dense_13 (Dense)            (None, 5)                 165       \n",
      "                                                                 \n",
      "=================================================================\n",
      "Total params: 527,237\n",
      "Trainable params: 527,237\n",
      "Non-trainable params: 0\n",
      "_________________________________________________________________\n"
     ]
    }
   ],
   "source": [
    "# Build the Model\n",
    "\n",
    "# Task 1: Build the Model\n",
    "from tensorflow.keras.models import Sequential\n",
    "from tensorflow.keras.layers import Embedding\n",
    "from tensorflow.keras.layers import LSTM, GRU\n",
    "from tensorflow.keras.layers import Dense\n",
    "from tensorflow.keras import regularizers\n",
    "\n",
    "model2 = Sequential()\n",
    "model2.add(Embedding(vocab_size, embedding_dim, input_length=max_length))\n",
    "model2.add(GRU(32,return_sequences=True))\n",
    "model2.add(GRU(32,return_sequences=True))\n",
    "model2.add(GRU(32,\n",
    "               dropout = 0.2,\n",
    "               recurrent_dropout = 0.2,\n",
    "               return_sequences=True))\n",
    "model2.add(GRU(32,dropout = 0.2,recurrent_dropout = 0.2))\n",
    "model2.add(Dense(5, activation='softmax'))\n",
    "model2.summary()\n",
    "\n",
    "model2.compile(optimizer='rmsprop', loss='categorical_crossentropy', metrics=['acc'])"
   ]
  },
  {
   "cell_type": "code",
   "execution_count": 239,
   "metadata": {},
   "outputs": [
    {
     "name": "stdout",
     "output_type": "stream",
     "text": [
      "Epoch 1/15\n",
      "31/31 [==============================] - 16s 273ms/step - loss: 1.5783 - acc: 0.2479 - val_loss: 1.5411 - val_acc: 0.2869\n",
      "Epoch 2/15\n",
      "31/31 [==============================] - 7s 216ms/step - loss: 1.4609 - acc: 0.3241 - val_loss: 1.4856 - val_acc: 0.2828\n",
      "Epoch 3/15\n",
      "31/31 [==============================] - 7s 214ms/step - loss: 1.3210 - acc: 0.3837 - val_loss: 1.4500 - val_acc: 0.3238\n",
      "Epoch 4/15\n",
      "31/31 [==============================] - 7s 215ms/step - loss: 1.2299 - acc: 0.4084 - val_loss: 1.4942 - val_acc: 0.2951\n",
      "Epoch 5/15\n",
      "31/31 [==============================] - 7s 214ms/step - loss: 1.1380 - acc: 0.4424 - val_loss: 1.4975 - val_acc: 0.3238\n",
      "Epoch 6/15\n",
      "31/31 [==============================] - 6s 210ms/step - loss: 1.0590 - acc: 0.5144 - val_loss: 1.4894 - val_acc: 0.3156\n",
      "Epoch 7/15\n",
      "31/31 [==============================] - 7s 224ms/step - loss: 0.9839 - acc: 0.5679 - val_loss: 1.5852 - val_acc: 0.3238\n",
      "Epoch 8/15\n",
      "31/31 [==============================] - 6s 200ms/step - loss: 0.9142 - acc: 0.5844 - val_loss: 1.6443 - val_acc: 0.3525\n",
      "Epoch 9/15\n",
      "31/31 [==============================] - 6s 208ms/step - loss: 0.8602 - acc: 0.6193 - val_loss: 1.7899 - val_acc: 0.3443\n",
      "Epoch 10/15\n",
      "31/31 [==============================] - 7s 213ms/step - loss: 0.7978 - acc: 0.6595 - val_loss: 1.8475 - val_acc: 0.3156\n",
      "Epoch 11/15\n",
      "31/31 [==============================] - 6s 206ms/step - loss: 0.7619 - acc: 0.6739 - val_loss: 1.9110 - val_acc: 0.3443\n",
      "Epoch 12/15\n",
      "31/31 [==============================] - 6s 204ms/step - loss: 0.6941 - acc: 0.7181 - val_loss: 2.0294 - val_acc: 0.3279\n",
      "Epoch 13/15\n",
      "31/31 [==============================] - 6s 206ms/step - loss: 0.6268 - acc: 0.7346 - val_loss: 2.1741 - val_acc: 0.3115\n",
      "Epoch 14/15\n",
      "31/31 [==============================] - 6s 198ms/step - loss: 0.5903 - acc: 0.7778 - val_loss: 2.2276 - val_acc: 0.3115\n",
      "Epoch 15/15\n",
      "31/31 [==============================] - 6s 203ms/step - loss: 0.5525 - acc: 0.7716 - val_loss: 2.3060 - val_acc: 0.2992\n"
     ]
    }
   ],
   "source": [
    "# Train the Model\n",
    "history = model2.fit(train_padded, train_labels,\n",
    "                    epochs=15,\n",
    "                    batch_size=32,\n",
    "                    validation_split=0.2)"
   ]
  },
  {
   "cell_type": "code",
   "execution_count": 240,
   "metadata": {},
   "outputs": [
    {
     "data": {
      "image/png": "[encoded data removed]",
      "text/plain": [
       "<Figure size 432x288 with 1 Axes>"
      ]
     },
     "metadata": {
      "needs_background": "light"
     },
     "output_type": "display_data"
    },
    {
     "data": {
      "image/png": "[encoded data removed]",
      "text/plain": [
       "<Figure size 432x288 with 1 Axes>"
      ]
     },
     "metadata": {
      "needs_background": "light"
     },
     "output_type": "display_data"
    }
   ],
   "source": [
    "# Plot the Training and Validation Accuracy & Loss Scores\n",
    "%matplotlib inline\n",
    "import matplotlib.pyplot as plt\n",
    "\n",
    "acc = history.history['acc']\n",
    "val_acc = history.history['val_acc']\n",
    "loss = history.history['loss']\n",
    "val_loss = history.history['val_loss']\n",
    "\n",
    "epochs = range(1, len(acc) + 1)\n",
    "\n",
    "plt.plot(epochs, acc, 'bo', label='Training acc')\n",
    "plt.plot(epochs, val_acc, 'b', label='Validation acc')\n",
    "plt.title('Training and validation accuracy')\n",
    "plt.legend()\n",
    "\n",
    "plt.figure()\n",
    "\n",
    "plt.plot(epochs, loss, 'bo', label='Training loss')\n",
    "plt.plot(epochs, val_loss, 'b', label='Validation loss')\n",
    "plt.title('Training and validation loss')\n",
    "plt.legend()\n",
    "\n",
    "plt.show()"
   ]
  },
  {
   "cell_type": "code",
   "execution_count": 241,
   "metadata": {},
   "outputs": [],
   "source": [
    "# Save the Model\n",
    "model2.save('singpass_model_2_2.h5')"
   ]
  },
  {
   "cell_type": "code",
   "execution_count": 242,
   "metadata": {},
   "outputs": [],
   "source": [
    "#model 4"
   ]
  },
  {
   "cell_type": "code",
   "execution_count": 243,
   "metadata": {},
   "outputs": [],
   "source": [
    "from tensorflow import keras\n"
   ]
  },
  {
   "cell_type": "code",
   "execution_count": 244,
   "metadata": {},
   "outputs": [
    {
     "ename": "OSError",
     "evalue": "No file or directory found at singp_model_1_1.h5",
     "output_type": "error",
     "traceback": [
      "\u001b[1;31m---------------------------------------------------------------------------\u001b[0m",
      "\u001b[1;31mOSError\u001b[0m                                   Traceback (most recent call last)",
      "\u001b[1;32m<ipython-input-244-049e66ee70a9>\u001b[0m in \u001b[0;36m<module>\u001b[1;34m\u001b[0m\n\u001b[0;32m      1\u001b[0m \u001b[1;31m# Model #1 (replicate where necessary for other models)\u001b[0m\u001b[1;33m\u001b[0m\u001b[1;33m\u001b[0m\u001b[1;33m\u001b[0m\u001b[0m\n\u001b[1;32m----> 2\u001b[1;33m \u001b[0mmodel1\u001b[0m \u001b[1;33m=\u001b[0m \u001b[0mkeras\u001b[0m\u001b[1;33m.\u001b[0m\u001b[0mmodels\u001b[0m\u001b[1;33m.\u001b[0m\u001b[0mload_model\u001b[0m\u001b[1;33m(\u001b[0m\u001b[1;34m'singp_model_1_1.h5'\u001b[0m\u001b[1;33m)\u001b[0m\u001b[1;33m\u001b[0m\u001b[1;33m\u001b[0m\u001b[0m\n\u001b[0m\u001b[0;32m      3\u001b[0m \u001b[1;33m\u001b[0m\u001b[0m\n\u001b[0;32m      4\u001b[0m \u001b[0mprint\u001b[0m\u001b[1;33m(\u001b[0m\u001b[1;34m\"Evaluate on test data\"\u001b[0m\u001b[1;33m)\u001b[0m\u001b[1;33m\u001b[0m\u001b[1;33m\u001b[0m\u001b[0m\n\u001b[0;32m      5\u001b[0m \u001b[0mresults\u001b[0m \u001b[1;33m=\u001b[0m \u001b[0mmodel1\u001b[0m\u001b[1;33m.\u001b[0m\u001b[0mevaluate\u001b[0m\u001b[1;33m(\u001b[0m\u001b[0mtest_padded\u001b[0m\u001b[1;33m,\u001b[0m \u001b[0mtest_labels\u001b[0m\u001b[1;33m,\u001b[0m \u001b[0mbatch_size\u001b[0m\u001b[1;33m=\u001b[0m\u001b[1;36m32\u001b[0m\u001b[1;33m)\u001b[0m\u001b[1;33m\u001b[0m\u001b[1;33m\u001b[0m\u001b[0m\n",
      "\u001b[1;32mC:\\ProgramData\\Anaconda3\\lib\\site-packages\\keras\\utils\\traceback_utils.py\u001b[0m in \u001b[0;36merror_handler\u001b[1;34m(*args, **kwargs)\u001b[0m\n\u001b[0;32m     65\u001b[0m     \u001b[1;32mexcept\u001b[0m \u001b[0mException\u001b[0m \u001b[1;32mas\u001b[0m \u001b[0me\u001b[0m\u001b[1;33m:\u001b[0m  \u001b[1;31m# pylint: disable=broad-except\u001b[0m\u001b[1;33m\u001b[0m\u001b[1;33m\u001b[0m\u001b[0m\n\u001b[0;32m     66\u001b[0m       \u001b[0mfiltered_tb\u001b[0m \u001b[1;33m=\u001b[0m \u001b[0m_process_traceback_frames\u001b[0m\u001b[1;33m(\u001b[0m\u001b[0me\u001b[0m\u001b[1;33m.\u001b[0m\u001b[0m__traceback__\u001b[0m\u001b[1;33m)\u001b[0m\u001b[1;33m\u001b[0m\u001b[1;33m\u001b[0m\u001b[0m\n\u001b[1;32m---> 67\u001b[1;33m       \u001b[1;32mraise\u001b[0m \u001b[0me\u001b[0m\u001b[1;33m.\u001b[0m\u001b[0mwith_traceback\u001b[0m\u001b[1;33m(\u001b[0m\u001b[0mfiltered_tb\u001b[0m\u001b[1;33m)\u001b[0m \u001b[1;32mfrom\u001b[0m \u001b[1;32mNone\u001b[0m\u001b[1;33m\u001b[0m\u001b[1;33m\u001b[0m\u001b[0m\n\u001b[0m\u001b[0;32m     68\u001b[0m     \u001b[1;32mfinally\u001b[0m\u001b[1;33m:\u001b[0m\u001b[1;33m\u001b[0m\u001b[1;33m\u001b[0m\u001b[0m\n\u001b[0;32m     69\u001b[0m       \u001b[1;32mdel\u001b[0m \u001b[0mfiltered_tb\u001b[0m\u001b[1;33m\u001b[0m\u001b[1;33m\u001b[0m\u001b[0m\n",
      "\u001b[1;32mC:\\ProgramData\\Anaconda3\\lib\\site-packages\\keras\\saving\\save.py\u001b[0m in \u001b[0;36mload_model\u001b[1;34m(filepath, custom_objects, compile, options)\u001b[0m\n\u001b[0;32m    202\u001b[0m         \u001b[1;32mif\u001b[0m \u001b[0misinstance\u001b[0m\u001b[1;33m(\u001b[0m\u001b[0mfilepath_str\u001b[0m\u001b[1;33m,\u001b[0m \u001b[0mstr\u001b[0m\u001b[1;33m)\u001b[0m\u001b[1;33m:\u001b[0m\u001b[1;33m\u001b[0m\u001b[1;33m\u001b[0m\u001b[0m\n\u001b[0;32m    203\u001b[0m           \u001b[1;32mif\u001b[0m \u001b[1;32mnot\u001b[0m \u001b[0mtf\u001b[0m\u001b[1;33m.\u001b[0m\u001b[0mio\u001b[0m\u001b[1;33m.\u001b[0m\u001b[0mgfile\u001b[0m\u001b[1;33m.\u001b[0m\u001b[0mexists\u001b[0m\u001b[1;33m(\u001b[0m\u001b[0mfilepath_str\u001b[0m\u001b[1;33m)\u001b[0m\u001b[1;33m:\u001b[0m\u001b[1;33m\u001b[0m\u001b[1;33m\u001b[0m\u001b[0m\n\u001b[1;32m--> 204\u001b[1;33m             \u001b[1;32mraise\u001b[0m \u001b[0mIOError\u001b[0m\u001b[1;33m(\u001b[0m\u001b[1;34mf'No file or directory found at {filepath_str}'\u001b[0m\u001b[1;33m)\u001b[0m\u001b[1;33m\u001b[0m\u001b[1;33m\u001b[0m\u001b[0m\n\u001b[0m\u001b[0;32m    205\u001b[0m \u001b[1;33m\u001b[0m\u001b[0m\n\u001b[0;32m    206\u001b[0m           \u001b[1;32mif\u001b[0m \u001b[0mtf\u001b[0m\u001b[1;33m.\u001b[0m\u001b[0mio\u001b[0m\u001b[1;33m.\u001b[0m\u001b[0mgfile\u001b[0m\u001b[1;33m.\u001b[0m\u001b[0misdir\u001b[0m\u001b[1;33m(\u001b[0m\u001b[0mfilepath_str\u001b[0m\u001b[1;33m)\u001b[0m\u001b[1;33m:\u001b[0m\u001b[1;33m\u001b[0m\u001b[1;33m\u001b[0m\u001b[0m\n",
      "\u001b[1;31mOSError\u001b[0m: No file or directory found at singp_model_1_1.h5"
     ]
    }
   ],
   "source": [
    "# Model #1 (replicate where necessary for other models)\n",
    "model1 = keras.models.load_model('singp_model_1_1.h5')\n",
    "\n",
    "print(\"Evaluate on test data\")\n",
    "results = model1.evaluate(test_padded, test_labels, batch_size=32)\n",
    "print(\"test loss, test acc:\", results)\n",
    "\n",
    "# Generate predictions (probabilities -- the output of the last layer)\n",
    "# on new data using `predict`\n",
    "print(\"Generate predictions for 3 samples\")\n",
    "predictions = model1.predict(test_padded[:3])\n",
    "print(\"predictions shape:\", predictions.shape)\n",
    "print(decode_review(test_padded[0]))\n",
    "print(decode_review(test_padded[1]))\n",
    "print(decode_review(test_padded[2]))\n",
    "print(test_padded[:3])\n",
    "print(test_labels[:3])\n",
    "print(predictions)"
   ]
  },
  {
   "cell_type": "code",
   "execution_count": null,
   "metadata": {},
   "outputs": [],
   "source": [
    "# Model #2 (replicate where necessary for other models)\n",
    "model2 = keras.models.load_model('singpass_model_2_2.h5')\n",
    "\n",
    "print(\"Evaluate on test data\")\n",
    "results = model2.evaluate(test_padded, test_labels, batch_size=32)\n",
    "print(\"test loss, test acc:\", results)\n",
    "\n",
    "# Generate predictions (probabilities -- the output of the last layer)\n",
    "# on new data using `predict`\n",
    "print(\"Generate predictions for 3 samples\")\n",
    "predictions = model2.predict(test_padded[:3])\n",
    "print(\"predictions shape:\", predictions.shape)\n",
    "print(decode_review(test_padded[0]))\n",
    "print(decode_review(test_padded[1]))\n",
    "print(decode_review(test_padded[2]))\n",
    "print(test_padded[:3])\n",
    "print(test_labels[:3])\n",
    "print(predictions)"
   ]
  },
  {
   "cell_type": "code",
   "execution_count": null,
   "metadata": {},
   "outputs": [],
   "source": [
    "# Save the Best Model\n",
    "model1.save('singpass_model_best_1.h5')"
   ]
  },
  {
   "cell_type": "code",
   "execution_count": null,
   "metadata": {},
   "outputs": [],
   "source": [
    "#import tensorflow as tf\n",
    "from tensorflow.keras.models import Sequential\n",
    "from tensorflow.keras.layers import Flatten, Dense\n",
    "from tensorflow.keras.layers import Embedding, LSTM, SpatialDropout1D, SimpleRNN, GRU\n",
    "from tensorflow.keras.preprocessing.text import Tokenizer\n",
    "from tensorflow.keras.preprocessing.sequence import pad_sequences\n",
    "from tensorflow import keras\n",
    "import numpy as np\n",
    "import pandas as pd"
   ]
  },
  {
   "cell_type": "code",
   "execution_count": null,
   "metadata": {},
   "outputs": [],
   "source": [
    "best_model = keras.models.load_model('singpass_model_best_1.h5')"
   ]
  },
  {
   "cell_type": "code",
   "execution_count": null,
   "metadata": {},
   "outputs": [],
   "source": [
    "# takes the user input\n",
    "text_input = np.array([input()])"
   ]
  },
  {
   "cell_type": "code",
   "execution_count": null,
   "metadata": {},
   "outputs": [],
   "source": [
    "# convert the user input into numeric tensor\n",
    "text_seqs = tokenizer.texts_to_sequences(text_input)\n",
    "text_padded = pad_sequences(text_seqs,maxlen=max_length, truncating=trunc_type)"
   ]
  },
  {
   "cell_type": "code",
   "execution_count": null,
   "metadata": {},
   "outputs": [],
   "source": [
    "text_padded =np.array(text_padded)"
   ]
  },
  {
   "cell_type": "code",
   "execution_count": null,
   "metadata": {},
   "outputs": [],
   "source": [
    "# show the model output using predict function\n",
    "predictions = best_model.predict(text_padded)"
   ]
  },
  {
   "cell_type": "code",
   "execution_count": null,
   "metadata": {},
   "outputs": [],
   "source": [
    "predictions"
   ]
  },
  {
   "cell_type": "code",
   "execution_count": null,
   "metadata": {},
   "outputs": [],
   "source": [
    "# takes the user input\n",
    "text_input = np.array([input()])"
   ]
  },
  {
   "cell_type": "code",
   "execution_count": null,
   "metadata": {},
   "outputs": [],
   "source": [
    "# convert the user input into numeric tensor\n",
    "text_seqs = tokenizer.texts_to_sequences(text_input)\n",
    "text_padded = pad_sequences(text_seqs,maxlen=max_length, truncating=trunc_type)"
   ]
  },
  {
   "cell_type": "code",
   "execution_count": null,
   "metadata": {},
   "outputs": [],
   "source": [
    "text_padded =np.array(text_padded)"
   ]
  },
  {
   "cell_type": "code",
   "execution_count": null,
   "metadata": {},
   "outputs": [],
   "source": [
    "# show the model output using predict function\n",
    "predictions = best_model.predict(text_padded)"
   ]
  },
  {
   "cell_type": "code",
   "execution_count": null,
   "metadata": {},
   "outputs": [],
   "source": [
    "predictions"
   ]
  },
  {
   "cell_type": "code",
   "execution_count": null,
   "metadata": {},
   "outputs": [],
   "source": [
    "# takes the user input\n",
    "text_input = np.array([input()])"
   ]
  },
  {
   "cell_type": "code",
   "execution_count": null,
   "metadata": {},
   "outputs": [],
   "source": [
    "# convert the user input into numeric tensor\n",
    "text_seqs = tokenizer.texts_to_sequences(text_input)\n",
    "text_padded = pad_sequences(text_seqs,maxlen=max_length, truncating=trunc_type)"
   ]
  },
  {
   "cell_type": "code",
   "execution_count": null,
   "metadata": {},
   "outputs": [],
   "source": [
    "text_padded =np.array(text_padded)"
   ]
  },
  {
   "cell_type": "code",
   "execution_count": null,
   "metadata": {},
   "outputs": [],
   "source": [
    "# show the model output using predict function\n",
    "predictions = best_model.predict(text_padded)"
   ]
  },
  {
   "cell_type": "code",
   "execution_count": null,
   "metadata": {},
   "outputs": [],
   "source": [
    "predictions"
   ]
  },
  {
   "cell_type": "code",
   "execution_count": null,
   "metadata": {},
   "outputs": [],
   "source": [
    "# takes the user input\n",
    "text_input = np.array([input()])"
   ]
  },
  {
   "cell_type": "code",
   "execution_count": null,
   "metadata": {},
   "outputs": [],
   "source": [
    "# convert the user input into numeric tensor\n",
    "text_seqs = tokenizer.texts_to_sequences(text_input)\n",
    "text_padded = pad_sequences(text_seqs,maxlen=max_length, truncating=trunc_type)\n",
    "text_padded =np.array(text_padded)\n",
    "# show the model output using predict function\n",
    "predictions = best_model.predict(text_padded)\n",
    "predictions"
   ]
  },
  {
   "cell_type": "code",
   "execution_count": null,
   "metadata": {},
   "outputs": [],
   "source": []
  }
 ],
 "metadata": {
  "kernelspec": {
   "display_name": "Python 3",
   "language": "python",
   "name": "python3"
  },
  "language_info": {
   "codemirror_mode": {
    "name": "ipython",
    "version": 3
   },
   "file_extension": ".py",
   "mimetype": "text/x-python",
   "name": "python",
   "nbconvert_exporter": "python",
   "pygments_lexer": "ipython3",
   "version": "3.8.5"
  }
 },
 "nbformat": 4,
 "nbformat_minor": 2
}
